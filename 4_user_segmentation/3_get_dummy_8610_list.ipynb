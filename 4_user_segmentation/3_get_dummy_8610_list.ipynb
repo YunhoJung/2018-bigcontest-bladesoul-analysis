{
 "cells": [
  {
   "cell_type": "code",
   "execution_count": 1,
   "metadata": {
    "collapsed": true
   },
   "outputs": [],
   "source": [
    "import pandas as pd"
   ]
  },
  {
   "cell_type": "code",
   "execution_count": 2,
   "metadata": {},
   "outputs": [],
   "source": [
    "# 전체에서 튜토리얼 퀘스트만 끝낸 계정을 골라낸다.\n",
    "# 튜토리얼 퀘스트 완료시 획득 퀘스트 경험치는 8610이다.\n",
    "te=pd.read_csv('test_8wk_fill0.csv')\n",
    "tr=pd.read_csv('train_8wk_fill0.csv')"
   ]
  },
  {
   "cell_type": "code",
   "execution_count": 11,
   "metadata": {},
   "outputs": [],
   "source": [
    "te8610=pd.DataFrame(te[(te['quest_exp1']==8610) | (te['quest_exp2']==8610) | (te['quest_exp3']==8610) | (te['quest_exp4']==8610) |\n",
    "                       (te['quest_exp5']==8610) | (te['quest_exp6']==8610) | (te['quest_exp7']==8610) | (te['quest_exp8']==8610)]['acc_id'])"
   ]
  },
  {
   "cell_type": "code",
   "execution_count": 12,
   "metadata": {},
   "outputs": [],
   "source": [
    "tr8610=pd.DataFrame(tr[(tr['quest_exp1']==8610) | (tr['quest_exp2']==8610) | (tr['quest_exp3']==8610) | (tr['quest_exp4']==8610) |\n",
    "                       (tr['quest_exp5']==8610) | (tr['quest_exp6']==8610) | (tr['quest_exp7']==8610) | (tr['quest_exp8']==8610)]['acc_id'])"
   ]
  },
  {
   "cell_type": "code",
   "execution_count": 20,
   "metadata": {},
   "outputs": [],
   "source": [
    "to8610=pd.concat([te8610,tr8610]).sort_values(by='acc_id')\n",
    "to8610['8610_id']=1\n",
    "to8610['8610_id']=to8610['8610_id'].astype(int)\n",
    "to8610.to_csv('8610_list.csv',index=False)"
   ]
  }
 ],
 "metadata": {
  "kernelspec": {
   "display_name": "Python 2",
   "language": "python",
   "name": "python2"
  },
  "language_info": {
   "codemirror_mode": {
    "name": "ipython",
    "version": 2
   },
   "file_extension": ".py",
   "mimetype": "text/x-python",
   "name": "python",
   "nbconvert_exporter": "python",
   "pygments_lexer": "ipython2",
   "version": "2.7.6"
  }
 },
 "nbformat": 4,
 "nbformat_minor": 0
}
