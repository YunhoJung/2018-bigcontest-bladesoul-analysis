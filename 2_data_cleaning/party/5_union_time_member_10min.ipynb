{
 "cells": [
  {
   "cell_type": "markdown",
   "metadata": {},
   "source": [
    "# 각 파티에 대한 인원수, 시간 정보 합치기\n",
    "## 파티 시간이 10분부터 의미있다고 간주.\n",
    "#### 각 주차당 동일 작업을 했습니다. 주석은 1주차에 해당하는 부분에만 달려있습니다."
   ]
  },
  {
   "cell_type": "code",
   "execution_count": 12,
   "metadata": {},
   "outputs": [],
   "source": [
    "import pandas as pd\n",
    "import os\n",
    "from IPython.core.interactiveshell import InteractiveShell\n",
    "InteractiveShell.ast_node_interactivity = \"all\"\n",
    "\n",
    "os.chdir('../data')"
   ]
  },
  {
   "cell_type": "code",
   "execution_count": null,
   "metadata": {},
   "outputs": [],
   "source": [
    "#시간 정보 가진 데이터 불러오기\n",
    "train_party_1wk_pre = pd.read_csv(\"train_party_1wk_time.csv\")\n",
    "#파티 인원수 데이터 불러오기\n",
    "count = pd.read_csv(\"train_party_1wk_count.csv\")\n",
    "\n",
    "train_party_1wk_pre.head()\n",
    "count.head()\n",
    "\n",
    "len(train_party_1wk_pre)\n",
    "len(count)\n",
    "\n",
    "#데이터 합치기\n",
    "train_party_1wk_pre[\"count\"] = count\n",
    "len(train_party_1wk_pre)\n",
    "\n",
    "#파티 타임 10분 이상만 남긴다.\n",
    "train_party_1wk_pre = train_party_1wk_pre[train_party_1wk_pre.time>10]\n",
    "\n",
    "len(train_party_1wk_pre)\n",
    "\n",
    "#데이터 저장\n",
    "train_party_1wk_pre.to_csv(\"train_party_1wk_pre.csv\", index = False)"
   ]
  },
  {
   "cell_type": "code",
   "execution_count": 21,
   "metadata": {},
   "outputs": [],
   "source": [
    "train_party_1wk_pre = pd.read_csv(\"train_party_2wk_time.csv\")\n",
    "count = pd.read_csv(\"train_party_2wk_count.csv\")\n",
    "\n",
    "train_party_1wk_pre.head()\n",
    "count.head()\n",
    "\n",
    "len(train_party_1wk_pre)\n",
    "len(count)\n",
    "\n",
    "train_party_1wk_pre[\"count\"] = count\n",
    "len(train_party_1wk_pre)\n",
    "\n",
    "train_party_1wk_pre = train_party_1wk_pre[train_party_1wk_pre.time>10]\n",
    "\n",
    "len(train_party_1wk_pre)\n",
    "\n",
    "train_party_1wk_pre.to_csv(\"train_party_2wk_pre.csv\", index = False)\n",
    "\n",
    "train_party_1wk_pre = pd.read_csv(\"train_party_3wk_time.csv\")\n",
    "count = pd.read_csv(\"train_party_3wk_count.csv\")\n",
    "\n",
    "train_party_1wk_pre.head()\n",
    "count.head()\n",
    "\n",
    "len(train_party_1wk_pre)\n",
    "len(count)\n",
    "\n",
    "train_party_1wk_pre[\"count\"] = count\n",
    "len(train_party_1wk_pre)\n",
    "\n",
    "train_party_1wk_pre = train_party_1wk_pre[train_party_1wk_pre.time>10]\n",
    "\n",
    "len(train_party_1wk_pre)\n",
    "\n",
    "train_party_1wk_pre.to_csv(\"train_party_3wk_pre.csv\", index = False)\n",
    "\n",
    "train_party_1wk_pre = pd.read_csv(\"train_party_4wk_time.csv\")\n",
    "count = pd.read_csv(\"train_party_4wk_count.csv\")\n",
    "\n",
    "train_party_1wk_pre.head()\n",
    "count.head()\n",
    "\n",
    "len(train_party_1wk_pre)\n",
    "len(count)\n",
    "\n",
    "train_party_1wk_pre[\"count\"] = count\n",
    "len(train_party_1wk_pre)\n",
    "\n",
    "train_party_1wk_pre = train_party_1wk_pre[train_party_1wk_pre.time>10]\n",
    "\n",
    "len(train_party_1wk_pre)\n",
    "\n",
    "train_party_1wk_pre.to_csv(\"train_party_4wk_pre.csv\", index = False)\n",
    "\n",
    "train_party_1wk_pre = pd.read_csv(\"train_party_5wk_time.csv\")\n",
    "count = pd.read_csv(\"train_party_5wk_count.csv\")\n",
    "\n",
    "train_party_1wk_pre.head()\n",
    "count.head()\n",
    "\n",
    "len(train_party_1wk_pre)\n",
    "len(count)\n",
    "\n",
    "train_party_1wk_pre[\"count\"] = count\n",
    "len(train_party_1wk_pre)\n",
    "\n",
    "train_party_1wk_pre = train_party_1wk_pre[train_party_1wk_pre.time>10]\n",
    "\n",
    "len(train_party_1wk_pre)\n",
    "\n",
    "train_party_1wk_pre.to_csv(\"train_party_5wk_pre.csv\", index = False)\n",
    "\n",
    "train_party_1wk_pre = pd.read_csv(\"train_party_6wk_time.csv\")\n",
    "count = pd.read_csv(\"train_party_6wk_count.csv\")\n",
    "\n",
    "train_party_1wk_pre.head()\n",
    "count.head()\n",
    "\n",
    "len(train_party_1wk_pre)\n",
    "len(count)\n",
    "\n",
    "train_party_1wk_pre[\"count\"] = count\n",
    "len(train_party_1wk_pre)\n",
    "\n",
    "train_party_1wk_pre = train_party_1wk_pre[train_party_1wk_pre.time>10]\n",
    "\n",
    "len(train_party_1wk_pre)\n",
    "\n",
    "train_party_1wk_pre.to_csv(\"train_party_6wk_pre.csv\", index = False)\n",
    "\n",
    "train_party_1wk_pre = pd.read_csv(\"train_party_7wk_time.csv\")\n",
    "count = pd.read_csv(\"train_party_7wk_count.csv\")\n",
    "\n",
    "train_party_1wk_pre.head()\n",
    "count.head()\n",
    "\n",
    "len(train_party_1wk_pre)\n",
    "len(count)\n",
    "\n",
    "train_party_1wk_pre[\"count\"] = count\n",
    "len(train_party_1wk_pre)\n",
    "\n",
    "train_party_1wk_pre = train_party_1wk_pre[train_party_1wk_pre.time>10]\n",
    "\n",
    "len(train_party_1wk_pre)\n",
    "\n",
    "train_party_1wk_pre.to_csv(\"train_party_7wk_pre.csv\", index = False)\n",
    "\n",
    "train_party_1wk_pre = pd.read_csv(\"train_party_8wk_time.csv\")\n",
    "count = pd.read_csv(\"train_party_8wk_count.csv\")\n",
    "\n",
    "train_party_1wk_pre.head()\n",
    "count.head()\n",
    "\n",
    "len(train_party_1wk_pre)\n",
    "len(count)\n",
    "\n",
    "train_party_1wk_pre[\"count\"] = count\n",
    "len(train_party_1wk_pre)\n",
    "\n",
    "train_party_1wk_pre = train_party_1wk_pre[train_party_1wk_pre.time>10]\n",
    "\n",
    "len(train_party_1wk_pre)\n",
    "\n",
    "train_party_1wk_pre.to_csv(\"train_party_8wk_pre.csv\", index = False)"
   ]
  },
  {
   "cell_type": "code",
   "execution_count": 36,
   "metadata": {},
   "outputs": [
    {
     "data": {
      "text/html": [
       "<div>\n",
       "<style scoped>\n",
       "    .dataframe tbody tr th:only-of-type {\n",
       "        vertical-align: middle;\n",
       "    }\n",
       "\n",
       "    .dataframe tbody tr th {\n",
       "        vertical-align: top;\n",
       "    }\n",
       "\n",
       "    .dataframe thead th {\n",
       "        text-align: right;\n",
       "    }\n",
       "</style>\n",
       "<table border=\"1\" class=\"dataframe\">\n",
       "  <thead>\n",
       "    <tr style=\"text-align: right;\">\n",
       "      <th></th>\n",
       "      <th>time</th>\n",
       "      <th>hashed</th>\n",
       "    </tr>\n",
       "  </thead>\n",
       "  <tbody>\n",
       "    <tr>\n",
       "      <th>0</th>\n",
       "      <td>29.5</td>\n",
       "      <td>633e2b44564d93ff278716bf31db234040287de8bfaab2...</td>\n",
       "    </tr>\n",
       "    <tr>\n",
       "      <th>1</th>\n",
       "      <td>30.1</td>\n",
       "      <td>e130d2cb735867a9299dde0779478f9b8d9a8892f1ce72...</td>\n",
       "    </tr>\n",
       "    <tr>\n",
       "      <th>2</th>\n",
       "      <td>41.9</td>\n",
       "      <td>be9edf74f6b88d01bc1ade174712caa80d14dea990138e...</td>\n",
       "    </tr>\n",
       "    <tr>\n",
       "      <th>3</th>\n",
       "      <td>20.0</td>\n",
       "      <td>2c22fc6b006696fdfca01319c7cf23ecfbffc531f7af74...</td>\n",
       "    </tr>\n",
       "    <tr>\n",
       "      <th>4</th>\n",
       "      <td>15.8</td>\n",
       "      <td>c9ccee4ae1797c721a8f889765d3e59002a43b5adb70c9...</td>\n",
       "    </tr>\n",
       "  </tbody>\n",
       "</table>\n",
       "</div>"
      ],
      "text/plain": [
       "   time                                             hashed\n",
       "0  29.5  633e2b44564d93ff278716bf31db234040287de8bfaab2...\n",
       "1  30.1  e130d2cb735867a9299dde0779478f9b8d9a8892f1ce72...\n",
       "2  41.9  be9edf74f6b88d01bc1ade174712caa80d14dea990138e...\n",
       "3  20.0  2c22fc6b006696fdfca01319c7cf23ecfbffc531f7af74...\n",
       "4  15.8  c9ccee4ae1797c721a8f889765d3e59002a43b5adb70c9..."
      ]
     },
     "execution_count": 36,
     "metadata": {},
     "output_type": "execute_result"
    },
    {
     "data": {
      "text/html": [
       "<div>\n",
       "<style scoped>\n",
       "    .dataframe tbody tr th:only-of-type {\n",
       "        vertical-align: middle;\n",
       "    }\n",
       "\n",
       "    .dataframe tbody tr th {\n",
       "        vertical-align: top;\n",
       "    }\n",
       "\n",
       "    .dataframe thead th {\n",
       "        text-align: right;\n",
       "    }\n",
       "</style>\n",
       "<table border=\"1\" class=\"dataframe\">\n",
       "  <thead>\n",
       "    <tr style=\"text-align: right;\">\n",
       "      <th></th>\n",
       "      <th>count</th>\n",
       "    </tr>\n",
       "  </thead>\n",
       "  <tbody>\n",
       "    <tr>\n",
       "      <th>0</th>\n",
       "      <td>2</td>\n",
       "    </tr>\n",
       "    <tr>\n",
       "      <th>1</th>\n",
       "      <td>8</td>\n",
       "    </tr>\n",
       "    <tr>\n",
       "      <th>2</th>\n",
       "      <td>9</td>\n",
       "    </tr>\n",
       "    <tr>\n",
       "      <th>3</th>\n",
       "      <td>6</td>\n",
       "    </tr>\n",
       "    <tr>\n",
       "      <th>4</th>\n",
       "      <td>8</td>\n",
       "    </tr>\n",
       "  </tbody>\n",
       "</table>\n",
       "</div>"
      ],
      "text/plain": [
       "   count\n",
       "0      2\n",
       "1      8\n",
       "2      9\n",
       "3      6\n",
       "4      8"
      ]
     },
     "execution_count": 36,
     "metadata": {},
     "output_type": "execute_result"
    },
    {
     "data": {
      "text/plain": [
       "298041"
      ]
     },
     "execution_count": 36,
     "metadata": {},
     "output_type": "execute_result"
    },
    {
     "data": {
      "text/plain": [
       "298041"
      ]
     },
     "execution_count": 36,
     "metadata": {},
     "output_type": "execute_result"
    },
    {
     "data": {
      "text/plain": [
       "298041"
      ]
     },
     "execution_count": 36,
     "metadata": {},
     "output_type": "execute_result"
    },
    {
     "data": {
      "text/plain": [
       "181883"
      ]
     },
     "execution_count": 36,
     "metadata": {},
     "output_type": "execute_result"
    },
    {
     "data": {
      "text/html": [
       "<div>\n",
       "<style scoped>\n",
       "    .dataframe tbody tr th:only-of-type {\n",
       "        vertical-align: middle;\n",
       "    }\n",
       "\n",
       "    .dataframe tbody tr th {\n",
       "        vertical-align: top;\n",
       "    }\n",
       "\n",
       "    .dataframe thead th {\n",
       "        text-align: right;\n",
       "    }\n",
       "</style>\n",
       "<table border=\"1\" class=\"dataframe\">\n",
       "  <thead>\n",
       "    <tr style=\"text-align: right;\">\n",
       "      <th></th>\n",
       "      <th>time</th>\n",
       "      <th>hashed</th>\n",
       "    </tr>\n",
       "  </thead>\n",
       "  <tbody>\n",
       "    <tr>\n",
       "      <th>0</th>\n",
       "      <td>28.7</td>\n",
       "      <td>7a9f5ee034ee7aea9540c67e46a9df316fdac0f07d45df...</td>\n",
       "    </tr>\n",
       "    <tr>\n",
       "      <th>1</th>\n",
       "      <td>9.5</td>\n",
       "      <td>2787d157b3e525366c5ab3abdce58eea840b054f054817...</td>\n",
       "    </tr>\n",
       "    <tr>\n",
       "      <th>2</th>\n",
       "      <td>180.6</td>\n",
       "      <td>4ea8790ea823f5b0ac297c55e9e8b8a12b21edd01a5c31...</td>\n",
       "    </tr>\n",
       "    <tr>\n",
       "      <th>3</th>\n",
       "      <td>33.9</td>\n",
       "      <td>5be11b75e1f785b1c212098a6bcaaee42919ad9c0fda33...</td>\n",
       "    </tr>\n",
       "    <tr>\n",
       "      <th>4</th>\n",
       "      <td>25.0</td>\n",
       "      <td>9e48c0b38af2e43e7843ebce88901fff4073f67087086a...</td>\n",
       "    </tr>\n",
       "  </tbody>\n",
       "</table>\n",
       "</div>"
      ],
      "text/plain": [
       "    time                                             hashed\n",
       "0   28.7  7a9f5ee034ee7aea9540c67e46a9df316fdac0f07d45df...\n",
       "1    9.5  2787d157b3e525366c5ab3abdce58eea840b054f054817...\n",
       "2  180.6  4ea8790ea823f5b0ac297c55e9e8b8a12b21edd01a5c31...\n",
       "3   33.9  5be11b75e1f785b1c212098a6bcaaee42919ad9c0fda33...\n",
       "4   25.0  9e48c0b38af2e43e7843ebce88901fff4073f67087086a..."
      ]
     },
     "execution_count": 36,
     "metadata": {},
     "output_type": "execute_result"
    },
    {
     "data": {
      "text/html": [
       "<div>\n",
       "<style scoped>\n",
       "    .dataframe tbody tr th:only-of-type {\n",
       "        vertical-align: middle;\n",
       "    }\n",
       "\n",
       "    .dataframe tbody tr th {\n",
       "        vertical-align: top;\n",
       "    }\n",
       "\n",
       "    .dataframe thead th {\n",
       "        text-align: right;\n",
       "    }\n",
       "</style>\n",
       "<table border=\"1\" class=\"dataframe\">\n",
       "  <thead>\n",
       "    <tr style=\"text-align: right;\">\n",
       "      <th></th>\n",
       "      <th>count</th>\n",
       "    </tr>\n",
       "  </thead>\n",
       "  <tbody>\n",
       "    <tr>\n",
       "      <th>0</th>\n",
       "      <td>8</td>\n",
       "    </tr>\n",
       "    <tr>\n",
       "      <th>1</th>\n",
       "      <td>7</td>\n",
       "    </tr>\n",
       "    <tr>\n",
       "      <th>2</th>\n",
       "      <td>8</td>\n",
       "    </tr>\n",
       "    <tr>\n",
       "      <th>3</th>\n",
       "      <td>11</td>\n",
       "    </tr>\n",
       "    <tr>\n",
       "      <th>4</th>\n",
       "      <td>6</td>\n",
       "    </tr>\n",
       "  </tbody>\n",
       "</table>\n",
       "</div>"
      ],
      "text/plain": [
       "   count\n",
       "0      8\n",
       "1      7\n",
       "2      8\n",
       "3     11\n",
       "4      6"
      ]
     },
     "execution_count": 36,
     "metadata": {},
     "output_type": "execute_result"
    },
    {
     "data": {
      "text/plain": [
       "328910"
      ]
     },
     "execution_count": 36,
     "metadata": {},
     "output_type": "execute_result"
    },
    {
     "data": {
      "text/plain": [
       "328910"
      ]
     },
     "execution_count": 36,
     "metadata": {},
     "output_type": "execute_result"
    },
    {
     "data": {
      "text/plain": [
       "328910"
      ]
     },
     "execution_count": 36,
     "metadata": {},
     "output_type": "execute_result"
    },
    {
     "data": {
      "text/plain": [
       "199996"
      ]
     },
     "execution_count": 36,
     "metadata": {},
     "output_type": "execute_result"
    },
    {
     "data": {
      "text/html": [
       "<div>\n",
       "<style scoped>\n",
       "    .dataframe tbody tr th:only-of-type {\n",
       "        vertical-align: middle;\n",
       "    }\n",
       "\n",
       "    .dataframe tbody tr th {\n",
       "        vertical-align: top;\n",
       "    }\n",
       "\n",
       "    .dataframe thead th {\n",
       "        text-align: right;\n",
       "    }\n",
       "</style>\n",
       "<table border=\"1\" class=\"dataframe\">\n",
       "  <thead>\n",
       "    <tr style=\"text-align: right;\">\n",
       "      <th></th>\n",
       "      <th>time</th>\n",
       "      <th>hashed</th>\n",
       "    </tr>\n",
       "  </thead>\n",
       "  <tbody>\n",
       "    <tr>\n",
       "      <th>0</th>\n",
       "      <td>122.6</td>\n",
       "      <td>7176c1516207692857535c30a4650b8e8e586af1fed0fd...</td>\n",
       "    </tr>\n",
       "    <tr>\n",
       "      <th>1</th>\n",
       "      <td>10.3</td>\n",
       "      <td>8092e194a750aae539862ed4405f67a6dd5b492e7e57e3...</td>\n",
       "    </tr>\n",
       "    <tr>\n",
       "      <th>2</th>\n",
       "      <td>97.5</td>\n",
       "      <td>eb58b5d8c28b19b6bf35489aec4cd0283213a88a069036...</td>\n",
       "    </tr>\n",
       "    <tr>\n",
       "      <th>3</th>\n",
       "      <td>31.3</td>\n",
       "      <td>eb58b5d8c28b19b6bf35489aec4cd0283213a88a069036...</td>\n",
       "    </tr>\n",
       "    <tr>\n",
       "      <th>4</th>\n",
       "      <td>22.5</td>\n",
       "      <td>997ddb3c162f78ae7a4cd234f787fe3282e449ef433336...</td>\n",
       "    </tr>\n",
       "  </tbody>\n",
       "</table>\n",
       "</div>"
      ],
      "text/plain": [
       "    time                                             hashed\n",
       "0  122.6  7176c1516207692857535c30a4650b8e8e586af1fed0fd...\n",
       "1   10.3  8092e194a750aae539862ed4405f67a6dd5b492e7e57e3...\n",
       "2   97.5  eb58b5d8c28b19b6bf35489aec4cd0283213a88a069036...\n",
       "3   31.3  eb58b5d8c28b19b6bf35489aec4cd0283213a88a069036...\n",
       "4   22.5  997ddb3c162f78ae7a4cd234f787fe3282e449ef433336..."
      ]
     },
     "execution_count": 36,
     "metadata": {},
     "output_type": "execute_result"
    },
    {
     "data": {
      "text/html": [
       "<div>\n",
       "<style scoped>\n",
       "    .dataframe tbody tr th:only-of-type {\n",
       "        vertical-align: middle;\n",
       "    }\n",
       "\n",
       "    .dataframe tbody tr th {\n",
       "        vertical-align: top;\n",
       "    }\n",
       "\n",
       "    .dataframe thead th {\n",
       "        text-align: right;\n",
       "    }\n",
       "</style>\n",
       "<table border=\"1\" class=\"dataframe\">\n",
       "  <thead>\n",
       "    <tr style=\"text-align: right;\">\n",
       "      <th></th>\n",
       "      <th>count</th>\n",
       "    </tr>\n",
       "  </thead>\n",
       "  <tbody>\n",
       "    <tr>\n",
       "      <th>0</th>\n",
       "      <td>6</td>\n",
       "    </tr>\n",
       "    <tr>\n",
       "      <th>1</th>\n",
       "      <td>6</td>\n",
       "    </tr>\n",
       "    <tr>\n",
       "      <th>2</th>\n",
       "      <td>3</td>\n",
       "    </tr>\n",
       "    <tr>\n",
       "      <th>3</th>\n",
       "      <td>5</td>\n",
       "    </tr>\n",
       "    <tr>\n",
       "      <th>4</th>\n",
       "      <td>7</td>\n",
       "    </tr>\n",
       "  </tbody>\n",
       "</table>\n",
       "</div>"
      ],
      "text/plain": [
       "   count\n",
       "0      6\n",
       "1      6\n",
       "2      3\n",
       "3      5\n",
       "4      7"
      ]
     },
     "execution_count": 36,
     "metadata": {},
     "output_type": "execute_result"
    },
    {
     "data": {
      "text/plain": [
       "333791"
      ]
     },
     "execution_count": 36,
     "metadata": {},
     "output_type": "execute_result"
    },
    {
     "data": {
      "text/plain": [
       "333791"
      ]
     },
     "execution_count": 36,
     "metadata": {},
     "output_type": "execute_result"
    },
    {
     "data": {
      "text/plain": [
       "333791"
      ]
     },
     "execution_count": 36,
     "metadata": {},
     "output_type": "execute_result"
    },
    {
     "data": {
      "text/plain": [
       "203523"
      ]
     },
     "execution_count": 36,
     "metadata": {},
     "output_type": "execute_result"
    },
    {
     "data": {
      "text/html": [
       "<div>\n",
       "<style scoped>\n",
       "    .dataframe tbody tr th:only-of-type {\n",
       "        vertical-align: middle;\n",
       "    }\n",
       "\n",
       "    .dataframe tbody tr th {\n",
       "        vertical-align: top;\n",
       "    }\n",
       "\n",
       "    .dataframe thead th {\n",
       "        text-align: right;\n",
       "    }\n",
       "</style>\n",
       "<table border=\"1\" class=\"dataframe\">\n",
       "  <thead>\n",
       "    <tr style=\"text-align: right;\">\n",
       "      <th></th>\n",
       "      <th>time</th>\n",
       "      <th>hashed</th>\n",
       "    </tr>\n",
       "  </thead>\n",
       "  <tbody>\n",
       "    <tr>\n",
       "      <th>0</th>\n",
       "      <td>191.0</td>\n",
       "      <td>bb8e63d2d3ee44f87e59985d3b76cc1693cf57c8f2bbda...</td>\n",
       "    </tr>\n",
       "    <tr>\n",
       "      <th>1</th>\n",
       "      <td>0.6</td>\n",
       "      <td>86fdd61ebf226b0008dcad3ecab86d252718e9598b8c6f...</td>\n",
       "    </tr>\n",
       "    <tr>\n",
       "      <th>2</th>\n",
       "      <td>12.9</td>\n",
       "      <td>28822df101904832f77221bcce67bc0f63510b8835b819...</td>\n",
       "    </tr>\n",
       "    <tr>\n",
       "      <th>3</th>\n",
       "      <td>8.6</td>\n",
       "      <td>6f9324e80ba616afc67e493b81b26e31ad10dd3b0c87bf...</td>\n",
       "    </tr>\n",
       "    <tr>\n",
       "      <th>4</th>\n",
       "      <td>0.4</td>\n",
       "      <td>1ddd306238889fbb3835c34c4fc0663cbf542ba7f350ce...</td>\n",
       "    </tr>\n",
       "  </tbody>\n",
       "</table>\n",
       "</div>"
      ],
      "text/plain": [
       "    time                                             hashed\n",
       "0  191.0  bb8e63d2d3ee44f87e59985d3b76cc1693cf57c8f2bbda...\n",
       "1    0.6  86fdd61ebf226b0008dcad3ecab86d252718e9598b8c6f...\n",
       "2   12.9  28822df101904832f77221bcce67bc0f63510b8835b819...\n",
       "3    8.6  6f9324e80ba616afc67e493b81b26e31ad10dd3b0c87bf...\n",
       "4    0.4  1ddd306238889fbb3835c34c4fc0663cbf542ba7f350ce..."
      ]
     },
     "execution_count": 36,
     "metadata": {},
     "output_type": "execute_result"
    },
    {
     "data": {
      "text/html": [
       "<div>\n",
       "<style scoped>\n",
       "    .dataframe tbody tr th:only-of-type {\n",
       "        vertical-align: middle;\n",
       "    }\n",
       "\n",
       "    .dataframe tbody tr th {\n",
       "        vertical-align: top;\n",
       "    }\n",
       "\n",
       "    .dataframe thead th {\n",
       "        text-align: right;\n",
       "    }\n",
       "</style>\n",
       "<table border=\"1\" class=\"dataframe\">\n",
       "  <thead>\n",
       "    <tr style=\"text-align: right;\">\n",
       "      <th></th>\n",
       "      <th>count</th>\n",
       "    </tr>\n",
       "  </thead>\n",
       "  <tbody>\n",
       "    <tr>\n",
       "      <th>0</th>\n",
       "      <td>9</td>\n",
       "    </tr>\n",
       "    <tr>\n",
       "      <th>1</th>\n",
       "      <td>1</td>\n",
       "    </tr>\n",
       "    <tr>\n",
       "      <th>2</th>\n",
       "      <td>2</td>\n",
       "    </tr>\n",
       "    <tr>\n",
       "      <th>3</th>\n",
       "      <td>6</td>\n",
       "    </tr>\n",
       "    <tr>\n",
       "      <th>4</th>\n",
       "      <td>3</td>\n",
       "    </tr>\n",
       "  </tbody>\n",
       "</table>\n",
       "</div>"
      ],
      "text/plain": [
       "   count\n",
       "0      9\n",
       "1      1\n",
       "2      2\n",
       "3      6\n",
       "4      3"
      ]
     },
     "execution_count": 36,
     "metadata": {},
     "output_type": "execute_result"
    },
    {
     "data": {
      "text/plain": [
       "370486"
      ]
     },
     "execution_count": 36,
     "metadata": {},
     "output_type": "execute_result"
    },
    {
     "data": {
      "text/plain": [
       "370486"
      ]
     },
     "execution_count": 36,
     "metadata": {},
     "output_type": "execute_result"
    },
    {
     "data": {
      "text/plain": [
       "370486"
      ]
     },
     "execution_count": 36,
     "metadata": {},
     "output_type": "execute_result"
    },
    {
     "data": {
      "text/plain": [
       "222087"
      ]
     },
     "execution_count": 36,
     "metadata": {},
     "output_type": "execute_result"
    },
    {
     "data": {
      "text/html": [
       "<div>\n",
       "<style scoped>\n",
       "    .dataframe tbody tr th:only-of-type {\n",
       "        vertical-align: middle;\n",
       "    }\n",
       "\n",
       "    .dataframe tbody tr th {\n",
       "        vertical-align: top;\n",
       "    }\n",
       "\n",
       "    .dataframe thead th {\n",
       "        text-align: right;\n",
       "    }\n",
       "</style>\n",
       "<table border=\"1\" class=\"dataframe\">\n",
       "  <thead>\n",
       "    <tr style=\"text-align: right;\">\n",
       "      <th></th>\n",
       "      <th>time</th>\n",
       "      <th>hashed</th>\n",
       "    </tr>\n",
       "  </thead>\n",
       "  <tbody>\n",
       "    <tr>\n",
       "      <th>0</th>\n",
       "      <td>25.6</td>\n",
       "      <td>0a4efa2775543695a8071663c080e590b5650400c40fc2...</td>\n",
       "    </tr>\n",
       "    <tr>\n",
       "      <th>1</th>\n",
       "      <td>30.1</td>\n",
       "      <td>7ed04827b96eac9097a27f545445d983a9c4e13d986ab1...</td>\n",
       "    </tr>\n",
       "    <tr>\n",
       "      <th>2</th>\n",
       "      <td>16.9</td>\n",
       "      <td>719c3b7b0f17a8458afa7e41813811029bf81c4d585d98...</td>\n",
       "    </tr>\n",
       "    <tr>\n",
       "      <th>3</th>\n",
       "      <td>532.0</td>\n",
       "      <td>ad839956f6da9ef39cdeeba2bb94badfdc0be1310e2bfe...</td>\n",
       "    </tr>\n",
       "    <tr>\n",
       "      <th>4</th>\n",
       "      <td>16.2</td>\n",
       "      <td>dcfe9b7e15eeff2847b5002b4e982543592b9537ba9673...</td>\n",
       "    </tr>\n",
       "  </tbody>\n",
       "</table>\n",
       "</div>"
      ],
      "text/plain": [
       "    time                                             hashed\n",
       "0   25.6  0a4efa2775543695a8071663c080e590b5650400c40fc2...\n",
       "1   30.1  7ed04827b96eac9097a27f545445d983a9c4e13d986ab1...\n",
       "2   16.9  719c3b7b0f17a8458afa7e41813811029bf81c4d585d98...\n",
       "3  532.0  ad839956f6da9ef39cdeeba2bb94badfdc0be1310e2bfe...\n",
       "4   16.2  dcfe9b7e15eeff2847b5002b4e982543592b9537ba9673..."
      ]
     },
     "execution_count": 36,
     "metadata": {},
     "output_type": "execute_result"
    },
    {
     "data": {
      "text/html": [
       "<div>\n",
       "<style scoped>\n",
       "    .dataframe tbody tr th:only-of-type {\n",
       "        vertical-align: middle;\n",
       "    }\n",
       "\n",
       "    .dataframe tbody tr th {\n",
       "        vertical-align: top;\n",
       "    }\n",
       "\n",
       "    .dataframe thead th {\n",
       "        text-align: right;\n",
       "    }\n",
       "</style>\n",
       "<table border=\"1\" class=\"dataframe\">\n",
       "  <thead>\n",
       "    <tr style=\"text-align: right;\">\n",
       "      <th></th>\n",
       "      <th>count</th>\n",
       "    </tr>\n",
       "  </thead>\n",
       "  <tbody>\n",
       "    <tr>\n",
       "      <th>0</th>\n",
       "      <td>8</td>\n",
       "    </tr>\n",
       "    <tr>\n",
       "      <th>1</th>\n",
       "      <td>11</td>\n",
       "    </tr>\n",
       "    <tr>\n",
       "      <th>2</th>\n",
       "      <td>6</td>\n",
       "    </tr>\n",
       "    <tr>\n",
       "      <th>3</th>\n",
       "      <td>11</td>\n",
       "    </tr>\n",
       "    <tr>\n",
       "      <th>4</th>\n",
       "      <td>9</td>\n",
       "    </tr>\n",
       "  </tbody>\n",
       "</table>\n",
       "</div>"
      ],
      "text/plain": [
       "   count\n",
       "0      8\n",
       "1     11\n",
       "2      6\n",
       "3     11\n",
       "4      9"
      ]
     },
     "execution_count": 36,
     "metadata": {},
     "output_type": "execute_result"
    },
    {
     "data": {
      "text/plain": [
       "450380"
      ]
     },
     "execution_count": 36,
     "metadata": {},
     "output_type": "execute_result"
    },
    {
     "data": {
      "text/plain": [
       "450380"
      ]
     },
     "execution_count": 36,
     "metadata": {},
     "output_type": "execute_result"
    },
    {
     "data": {
      "text/plain": [
       "450380"
      ]
     },
     "execution_count": 36,
     "metadata": {},
     "output_type": "execute_result"
    },
    {
     "data": {
      "text/plain": [
       "268340"
      ]
     },
     "execution_count": 36,
     "metadata": {},
     "output_type": "execute_result"
    },
    {
     "data": {
      "text/html": [
       "<div>\n",
       "<style scoped>\n",
       "    .dataframe tbody tr th:only-of-type {\n",
       "        vertical-align: middle;\n",
       "    }\n",
       "\n",
       "    .dataframe tbody tr th {\n",
       "        vertical-align: top;\n",
       "    }\n",
       "\n",
       "    .dataframe thead th {\n",
       "        text-align: right;\n",
       "    }\n",
       "</style>\n",
       "<table border=\"1\" class=\"dataframe\">\n",
       "  <thead>\n",
       "    <tr style=\"text-align: right;\">\n",
       "      <th></th>\n",
       "      <th>time</th>\n",
       "      <th>hashed</th>\n",
       "    </tr>\n",
       "  </thead>\n",
       "  <tbody>\n",
       "    <tr>\n",
       "      <th>0</th>\n",
       "      <td>19.4</td>\n",
       "      <td>4b33f0b6969e591bb19d7ea939af5e45e08c6799ef18e7...</td>\n",
       "    </tr>\n",
       "    <tr>\n",
       "      <th>1</th>\n",
       "      <td>2.6</td>\n",
       "      <td>a284744f3707f84daf525d5040191fda9a46db4c368fe6...</td>\n",
       "    </tr>\n",
       "    <tr>\n",
       "      <th>2</th>\n",
       "      <td>0.1</td>\n",
       "      <td>e7c5009f32f0c1957fc4cfa42ffa390fa44f0386f69c58...</td>\n",
       "    </tr>\n",
       "    <tr>\n",
       "      <th>3</th>\n",
       "      <td>15.4</td>\n",
       "      <td>8a126a151dbe248260e69ddb03671b42ba3d4755550149...</td>\n",
       "    </tr>\n",
       "    <tr>\n",
       "      <th>4</th>\n",
       "      <td>22.6</td>\n",
       "      <td>22f366abbfd312cfa4062c661a85079ec925fd6f969770...</td>\n",
       "    </tr>\n",
       "  </tbody>\n",
       "</table>\n",
       "</div>"
      ],
      "text/plain": [
       "   time                                             hashed\n",
       "0  19.4  4b33f0b6969e591bb19d7ea939af5e45e08c6799ef18e7...\n",
       "1   2.6  a284744f3707f84daf525d5040191fda9a46db4c368fe6...\n",
       "2   0.1  e7c5009f32f0c1957fc4cfa42ffa390fa44f0386f69c58...\n",
       "3  15.4  8a126a151dbe248260e69ddb03671b42ba3d4755550149...\n",
       "4  22.6  22f366abbfd312cfa4062c661a85079ec925fd6f969770..."
      ]
     },
     "execution_count": 36,
     "metadata": {},
     "output_type": "execute_result"
    },
    {
     "data": {
      "text/html": [
       "<div>\n",
       "<style scoped>\n",
       "    .dataframe tbody tr th:only-of-type {\n",
       "        vertical-align: middle;\n",
       "    }\n",
       "\n",
       "    .dataframe tbody tr th {\n",
       "        vertical-align: top;\n",
       "    }\n",
       "\n",
       "    .dataframe thead th {\n",
       "        text-align: right;\n",
       "    }\n",
       "</style>\n",
       "<table border=\"1\" class=\"dataframe\">\n",
       "  <thead>\n",
       "    <tr style=\"text-align: right;\">\n",
       "      <th></th>\n",
       "      <th>count</th>\n",
       "    </tr>\n",
       "  </thead>\n",
       "  <tbody>\n",
       "    <tr>\n",
       "      <th>0</th>\n",
       "      <td>8</td>\n",
       "    </tr>\n",
       "    <tr>\n",
       "      <th>1</th>\n",
       "      <td>5</td>\n",
       "    </tr>\n",
       "    <tr>\n",
       "      <th>2</th>\n",
       "      <td>2</td>\n",
       "    </tr>\n",
       "    <tr>\n",
       "      <th>3</th>\n",
       "      <td>6</td>\n",
       "    </tr>\n",
       "    <tr>\n",
       "      <th>4</th>\n",
       "      <td>6</td>\n",
       "    </tr>\n",
       "  </tbody>\n",
       "</table>\n",
       "</div>"
      ],
      "text/plain": [
       "   count\n",
       "0      8\n",
       "1      5\n",
       "2      2\n",
       "3      6\n",
       "4      6"
      ]
     },
     "execution_count": 36,
     "metadata": {},
     "output_type": "execute_result"
    },
    {
     "data": {
      "text/plain": [
       "441121"
      ]
     },
     "execution_count": 36,
     "metadata": {},
     "output_type": "execute_result"
    },
    {
     "data": {
      "text/plain": [
       "441121"
      ]
     },
     "execution_count": 36,
     "metadata": {},
     "output_type": "execute_result"
    },
    {
     "data": {
      "text/plain": [
       "441121"
      ]
     },
     "execution_count": 36,
     "metadata": {},
     "output_type": "execute_result"
    },
    {
     "data": {
      "text/plain": [
       "268329"
      ]
     },
     "execution_count": 36,
     "metadata": {},
     "output_type": "execute_result"
    },
    {
     "data": {
      "text/html": [
       "<div>\n",
       "<style scoped>\n",
       "    .dataframe tbody tr th:only-of-type {\n",
       "        vertical-align: middle;\n",
       "    }\n",
       "\n",
       "    .dataframe tbody tr th {\n",
       "        vertical-align: top;\n",
       "    }\n",
       "\n",
       "    .dataframe thead th {\n",
       "        text-align: right;\n",
       "    }\n",
       "</style>\n",
       "<table border=\"1\" class=\"dataframe\">\n",
       "  <thead>\n",
       "    <tr style=\"text-align: right;\">\n",
       "      <th></th>\n",
       "      <th>time</th>\n",
       "      <th>hashed</th>\n",
       "    </tr>\n",
       "  </thead>\n",
       "  <tbody>\n",
       "    <tr>\n",
       "      <th>0</th>\n",
       "      <td>1.6</td>\n",
       "      <td>b1e14188af3ef079986b55eba5eef121b9c726e1eb4937...</td>\n",
       "    </tr>\n",
       "    <tr>\n",
       "      <th>1</th>\n",
       "      <td>4.2</td>\n",
       "      <td>2c0d64ced4c446904a690732cb9c360ff3241b74a343ac...</td>\n",
       "    </tr>\n",
       "    <tr>\n",
       "      <th>2</th>\n",
       "      <td>48.6</td>\n",
       "      <td>8dda6a008ce18b6e79e2466edf319e94f65b40a96f42cc...</td>\n",
       "    </tr>\n",
       "    <tr>\n",
       "      <th>3</th>\n",
       "      <td>17.8</td>\n",
       "      <td>bf5aa5804a7d7fed621b85227cab3ede47830f442f4dd2...</td>\n",
       "    </tr>\n",
       "    <tr>\n",
       "      <th>4</th>\n",
       "      <td>16.8</td>\n",
       "      <td>e0c90026a31f6136f3fd82dd132182181d9511c4d38c61...</td>\n",
       "    </tr>\n",
       "  </tbody>\n",
       "</table>\n",
       "</div>"
      ],
      "text/plain": [
       "   time                                             hashed\n",
       "0   1.6  b1e14188af3ef079986b55eba5eef121b9c726e1eb4937...\n",
       "1   4.2  2c0d64ced4c446904a690732cb9c360ff3241b74a343ac...\n",
       "2  48.6  8dda6a008ce18b6e79e2466edf319e94f65b40a96f42cc...\n",
       "3  17.8  bf5aa5804a7d7fed621b85227cab3ede47830f442f4dd2...\n",
       "4  16.8  e0c90026a31f6136f3fd82dd132182181d9511c4d38c61..."
      ]
     },
     "execution_count": 36,
     "metadata": {},
     "output_type": "execute_result"
    },
    {
     "data": {
      "text/html": [
       "<div>\n",
       "<style scoped>\n",
       "    .dataframe tbody tr th:only-of-type {\n",
       "        vertical-align: middle;\n",
       "    }\n",
       "\n",
       "    .dataframe tbody tr th {\n",
       "        vertical-align: top;\n",
       "    }\n",
       "\n",
       "    .dataframe thead th {\n",
       "        text-align: right;\n",
       "    }\n",
       "</style>\n",
       "<table border=\"1\" class=\"dataframe\">\n",
       "  <thead>\n",
       "    <tr style=\"text-align: right;\">\n",
       "      <th></th>\n",
       "      <th>count</th>\n",
       "    </tr>\n",
       "  </thead>\n",
       "  <tbody>\n",
       "    <tr>\n",
       "      <th>0</th>\n",
       "      <td>2</td>\n",
       "    </tr>\n",
       "    <tr>\n",
       "      <th>1</th>\n",
       "      <td>3</td>\n",
       "    </tr>\n",
       "    <tr>\n",
       "      <th>2</th>\n",
       "      <td>7</td>\n",
       "    </tr>\n",
       "    <tr>\n",
       "      <th>3</th>\n",
       "      <td>6</td>\n",
       "    </tr>\n",
       "    <tr>\n",
       "      <th>4</th>\n",
       "      <td>6</td>\n",
       "    </tr>\n",
       "  </tbody>\n",
       "</table>\n",
       "</div>"
      ],
      "text/plain": [
       "   count\n",
       "0      2\n",
       "1      3\n",
       "2      7\n",
       "3      6\n",
       "4      6"
      ]
     },
     "execution_count": 36,
     "metadata": {},
     "output_type": "execute_result"
    },
    {
     "data": {
      "text/plain": [
       "882290"
      ]
     },
     "execution_count": 36,
     "metadata": {},
     "output_type": "execute_result"
    },
    {
     "data": {
      "text/plain": [
       "882290"
      ]
     },
     "execution_count": 36,
     "metadata": {},
     "output_type": "execute_result"
    },
    {
     "data": {
      "text/plain": [
       "882290"
      ]
     },
     "execution_count": 36,
     "metadata": {},
     "output_type": "execute_result"
    },
    {
     "data": {
      "text/plain": [
       "433326"
      ]
     },
     "execution_count": 36,
     "metadata": {},
     "output_type": "execute_result"
    },
    {
     "data": {
      "text/html": [
       "<div>\n",
       "<style scoped>\n",
       "    .dataframe tbody tr th:only-of-type {\n",
       "        vertical-align: middle;\n",
       "    }\n",
       "\n",
       "    .dataframe tbody tr th {\n",
       "        vertical-align: top;\n",
       "    }\n",
       "\n",
       "    .dataframe thead th {\n",
       "        text-align: right;\n",
       "    }\n",
       "</style>\n",
       "<table border=\"1\" class=\"dataframe\">\n",
       "  <thead>\n",
       "    <tr style=\"text-align: right;\">\n",
       "      <th></th>\n",
       "      <th>time</th>\n",
       "      <th>hashed</th>\n",
       "    </tr>\n",
       "  </thead>\n",
       "  <tbody>\n",
       "    <tr>\n",
       "      <th>0</th>\n",
       "      <td>0.0</td>\n",
       "      <td>6015d440c4a54bad8d2c23538eb25c8a8f931c048dd1f0...</td>\n",
       "    </tr>\n",
       "    <tr>\n",
       "      <th>1</th>\n",
       "      <td>456.4</td>\n",
       "      <td>37d8c7e0212f1af017330a1ac452ed1eee5ee8e7fd0359...</td>\n",
       "    </tr>\n",
       "    <tr>\n",
       "      <th>2</th>\n",
       "      <td>16.1</td>\n",
       "      <td>99e31d50347f81a18de176f00f6a21ea9cdfab89386092...</td>\n",
       "    </tr>\n",
       "    <tr>\n",
       "      <th>3</th>\n",
       "      <td>19.1</td>\n",
       "      <td>92f6416bf096db34b2755606825b7bd83092b079c5d0cb...</td>\n",
       "    </tr>\n",
       "    <tr>\n",
       "      <th>4</th>\n",
       "      <td>1.3</td>\n",
       "      <td>a8ac5f36f7e2cb502bd7f48713e1be4cc40a2d9364966e...</td>\n",
       "    </tr>\n",
       "  </tbody>\n",
       "</table>\n",
       "</div>"
      ],
      "text/plain": [
       "    time                                             hashed\n",
       "0    0.0  6015d440c4a54bad8d2c23538eb25c8a8f931c048dd1f0...\n",
       "1  456.4  37d8c7e0212f1af017330a1ac452ed1eee5ee8e7fd0359...\n",
       "2   16.1  99e31d50347f81a18de176f00f6a21ea9cdfab89386092...\n",
       "3   19.1  92f6416bf096db34b2755606825b7bd83092b079c5d0cb...\n",
       "4    1.3  a8ac5f36f7e2cb502bd7f48713e1be4cc40a2d9364966e..."
      ]
     },
     "execution_count": 36,
     "metadata": {},
     "output_type": "execute_result"
    },
    {
     "data": {
      "text/html": [
       "<div>\n",
       "<style scoped>\n",
       "    .dataframe tbody tr th:only-of-type {\n",
       "        vertical-align: middle;\n",
       "    }\n",
       "\n",
       "    .dataframe tbody tr th {\n",
       "        vertical-align: top;\n",
       "    }\n",
       "\n",
       "    .dataframe thead th {\n",
       "        text-align: right;\n",
       "    }\n",
       "</style>\n",
       "<table border=\"1\" class=\"dataframe\">\n",
       "  <thead>\n",
       "    <tr style=\"text-align: right;\">\n",
       "      <th></th>\n",
       "      <th>count</th>\n",
       "    </tr>\n",
       "  </thead>\n",
       "  <tbody>\n",
       "    <tr>\n",
       "      <th>0</th>\n",
       "      <td>1</td>\n",
       "    </tr>\n",
       "    <tr>\n",
       "      <th>1</th>\n",
       "      <td>14</td>\n",
       "    </tr>\n",
       "    <tr>\n",
       "      <th>2</th>\n",
       "      <td>6</td>\n",
       "    </tr>\n",
       "    <tr>\n",
       "      <th>3</th>\n",
       "      <td>6</td>\n",
       "    </tr>\n",
       "    <tr>\n",
       "      <th>4</th>\n",
       "      <td>4</td>\n",
       "    </tr>\n",
       "  </tbody>\n",
       "</table>\n",
       "</div>"
      ],
      "text/plain": [
       "   count\n",
       "0      1\n",
       "1     14\n",
       "2      6\n",
       "3      6\n",
       "4      4"
      ]
     },
     "execution_count": 36,
     "metadata": {},
     "output_type": "execute_result"
    },
    {
     "data": {
      "text/plain": [
       "1016493"
      ]
     },
     "execution_count": 36,
     "metadata": {},
     "output_type": "execute_result"
    },
    {
     "data": {
      "text/plain": [
       "1016493"
      ]
     },
     "execution_count": 36,
     "metadata": {},
     "output_type": "execute_result"
    },
    {
     "data": {
      "text/plain": [
       "1016493"
      ]
     },
     "execution_count": 36,
     "metadata": {},
     "output_type": "execute_result"
    },
    {
     "data": {
      "text/plain": [
       "406636"
      ]
     },
     "execution_count": 36,
     "metadata": {},
     "output_type": "execute_result"
    }
   ],
   "source": [
    "test_party_1wk_pre = pd.read_csv(\"test_party_1wk_time.csv\")\n",
    "count = pd.read_csv(\"test_party_1wk_count.csv\")\n",
    "\n",
    "test_party_1wk_pre.head()\n",
    "count.head()\n",
    "\n",
    "len(test_party_1wk_pre)\n",
    "len(count)\n",
    "\n",
    "test_party_1wk_pre[\"count\"] = count\n",
    "len(test_party_1wk_pre)\n",
    "\n",
    "test_party_1wk_pre = test_party_1wk_pre[test_party_1wk_pre.time>10]\n",
    "\n",
    "len(test_party_1wk_pre)\n",
    "\n",
    "test_party_1wk_pre.to_csv(\"test_party_1wk_pre.csv\", index = False)\n",
    "\n",
    "test_party_1wk_pre = pd.read_csv(\"test_party_2wk_time.csv\")\n",
    "count = pd.read_csv(\"test_party_2wk_count.csv\")\n",
    "\n",
    "test_party_1wk_pre.head()\n",
    "count.head()\n",
    "\n",
    "len(test_party_1wk_pre)\n",
    "len(count)\n",
    "\n",
    "test_party_1wk_pre[\"count\"] = count\n",
    "len(test_party_1wk_pre)\n",
    "\n",
    "test_party_1wk_pre = test_party_1wk_pre[test_party_1wk_pre.time>10]\n",
    "\n",
    "len(test_party_1wk_pre)\n",
    "\n",
    "test_party_1wk_pre.to_csv(\"test_party_2wk_pre.csv\", index = False)\n",
    "\n",
    "test_party_1wk_pre = pd.read_csv(\"test_party_3wk_time.csv\")\n",
    "count = pd.read_csv(\"test_party_3wk_count.csv\")\n",
    "\n",
    "test_party_1wk_pre.head()\n",
    "count.head()\n",
    "\n",
    "len(test_party_1wk_pre)\n",
    "len(count)\n",
    "\n",
    "test_party_1wk_pre[\"count\"] = count\n",
    "len(test_party_1wk_pre)\n",
    "\n",
    "test_party_1wk_pre = test_party_1wk_pre[test_party_1wk_pre.time>10]\n",
    "\n",
    "len(test_party_1wk_pre)\n",
    "\n",
    "test_party_1wk_pre.to_csv(\"test_party_3wk_pre.csv\", index = False)\n",
    "\n",
    "test_party_1wk_pre = pd.read_csv(\"test_party_4wk_time.csv\")\n",
    "count = pd.read_csv(\"test_party_4wk_count.csv\")\n",
    "\n",
    "test_party_1wk_pre.head()\n",
    "count.head()\n",
    "\n",
    "len(test_party_1wk_pre)\n",
    "len(count)\n",
    "\n",
    "test_party_1wk_pre[\"count\"] = count\n",
    "len(test_party_1wk_pre)\n",
    "\n",
    "test_party_1wk_pre = test_party_1wk_pre[test_party_1wk_pre.time>10]\n",
    "\n",
    "len(test_party_1wk_pre)\n",
    "\n",
    "test_party_1wk_pre.to_csv(\"test_party_4wk_pre.csv\", index = False)\n",
    "\n",
    "test_party_1wk_pre = pd.read_csv(\"test_party_5wk_time.csv\")\n",
    "count = pd.read_csv(\"test_party_5wk_count.csv\")\n",
    "\n",
    "test_party_1wk_pre.head()\n",
    "count.head()\n",
    "\n",
    "len(test_party_1wk_pre)\n",
    "len(count)\n",
    "\n",
    "test_party_1wk_pre[\"count\"] = count\n",
    "len(test_party_1wk_pre)\n",
    "\n",
    "test_party_1wk_pre = test_party_1wk_pre[test_party_1wk_pre.time>10]\n",
    "\n",
    "len(test_party_1wk_pre)\n",
    "\n",
    "test_party_1wk_pre.to_csv(\"test_party_5wk_pre.csv\", index = False)\n",
    "\n",
    "test_party_1wk_pre = pd.read_csv(\"test_party_6wk_time.csv\")\n",
    "count = pd.read_csv(\"test_party_6wk_count.csv\")\n",
    "\n",
    "test_party_1wk_pre.head()\n",
    "count.head()\n",
    "\n",
    "len(test_party_1wk_pre)\n",
    "len(count)\n",
    "\n",
    "test_party_1wk_pre[\"count\"] = count\n",
    "len(test_party_1wk_pre)\n",
    "\n",
    "test_party_1wk_pre = test_party_1wk_pre[test_party_1wk_pre.time>10]\n",
    "\n",
    "len(test_party_1wk_pre)\n",
    "\n",
    "test_party_1wk_pre.to_csv(\"test_party_6wk_pre.csv\", index = False)\n",
    "\n",
    "test_party_1wk_pre = pd.read_csv(\"test_party_7wk_time.csv\")\n",
    "count = pd.read_csv(\"test_party_7wk_count.csv\")\n",
    "\n",
    "test_party_1wk_pre.head()\n",
    "count.head()\n",
    "\n",
    "len(test_party_1wk_pre)\n",
    "len(count)\n",
    "\n",
    "test_party_1wk_pre[\"count\"] = count\n",
    "len(test_party_1wk_pre)\n",
    "\n",
    "test_party_1wk_pre = test_party_1wk_pre[test_party_1wk_pre.time>10]\n",
    "\n",
    "len(test_party_1wk_pre)\n",
    "\n",
    "test_party_1wk_pre.to_csv(\"test_party_7wk_pre.csv\", index = False)\n",
    "\n",
    "test_party_1wk_pre = pd.read_csv(\"test_party_8wk_time.csv\")\n",
    "count = pd.read_csv(\"test_party_8wk_count.csv\")\n",
    "\n",
    "test_party_1wk_pre.head()\n",
    "count.head()\n",
    "\n",
    "len(test_party_1wk_pre)\n",
    "len(count)\n",
    "\n",
    "test_party_1wk_pre[\"count\"] = count\n",
    "len(test_party_1wk_pre)\n",
    "\n",
    "test_party_1wk_pre = test_party_1wk_pre[test_party_1wk_pre.time>10]\n",
    "\n",
    "len(test_party_1wk_pre)\n",
    "\n",
    "test_party_1wk_pre.to_csv(\"test_party_8wk_pre.csv\", index = False)\n"
   ]
  },
  {
   "cell_type": "code",
   "execution_count": null,
   "metadata": {},
   "outputs": [],
   "source": []
  }
 ],
 "metadata": {
  "kernelspec": {
   "display_name": "Python 3",
   "language": "python",
   "name": "python3"
  },
  "language_info": {
   "codemirror_mode": {
    "name": "ipython",
    "version": 3
   },
   "file_extension": ".py",
   "mimetype": "text/x-python",
   "name": "python",
   "nbconvert_exporter": "python",
   "pygments_lexer": "ipython3",
   "version": "3.6.6"
  }
 },
 "nbformat": 4,
 "nbformat_minor": 2
}