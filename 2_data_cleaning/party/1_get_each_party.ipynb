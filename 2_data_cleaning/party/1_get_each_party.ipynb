{
 "cells": [
  {
   "cell_type": "markdown",
   "metadata": {},
   "source": [
    "# 각 주별 파티데이터만 추출하기"
   ]
  },
  {
   "cell_type": "code",
   "execution_count": 8,
   "metadata": {},
   "outputs": [],
   "source": [
    "import pandas as pd\n",
    "from IPython.core.interactiveshell import InteractiveShell\n",
    "InteractiveShell.ast_node_interactivity = \"all\""
   ]
  },
  {
   "cell_type": "markdown",
   "metadata": {},
   "source": [
    "## 훈련 데이터 추출"
   ]
  },
  {
   "cell_type": "code",
   "execution_count": 2,
   "metadata": {},
   "outputs": [],
   "source": [
    "data = pd.read_csv(\"train_party.csv\")"
   ]
  },
  {
   "cell_type": "code",
   "execution_count": 3,
   "metadata": {},
   "outputs": [
    {
     "data": {
      "text/html": [
       "<div>\n",
       "<style scoped>\n",
       "    .dataframe tbody tr th:only-of-type {\n",
       "        vertical-align: middle;\n",
       "    }\n",
       "\n",
       "    .dataframe tbody tr th {\n",
       "        vertical-align: top;\n",
       "    }\n",
       "\n",
       "    .dataframe thead th {\n",
       "        text-align: right;\n",
       "    }\n",
       "</style>\n",
       "<table border=\"1\" class=\"dataframe\">\n",
       "  <thead>\n",
       "    <tr style=\"text-align: right;\">\n",
       "      <th></th>\n",
       "      <th>party_start_week</th>\n",
       "      <th>party_start_day</th>\n",
       "      <th>party_start_time</th>\n",
       "      <th>party_end_week</th>\n",
       "      <th>party_end_day</th>\n",
       "      <th>party_end_time</th>\n",
       "      <th>hashed</th>\n",
       "    </tr>\n",
       "  </thead>\n",
       "  <tbody>\n",
       "    <tr>\n",
       "      <th>0</th>\n",
       "      <td>1</td>\n",
       "      <td>1</td>\n",
       "      <td>09:14:58.558</td>\n",
       "      <td>1</td>\n",
       "      <td>1</td>\n",
       "      <td>09:41:30.200</td>\n",
       "      <td>11fc85879e5ac9d5c83bfba10d73c4c84c154b9f4d9e1d...</td>\n",
       "    </tr>\n",
       "    <tr>\n",
       "      <th>1</th>\n",
       "      <td>3</td>\n",
       "      <td>3</td>\n",
       "      <td>11:05:05.176</td>\n",
       "      <td>3</td>\n",
       "      <td>3</td>\n",
       "      <td>13:07:42.515</td>\n",
       "      <td>7176c1516207692857535c30a4650b8e8e586af1fed0fd...</td>\n",
       "    </tr>\n",
       "    <tr>\n",
       "      <th>2</th>\n",
       "      <td>3</td>\n",
       "      <td>6</td>\n",
       "      <td>02:18:43.172</td>\n",
       "      <td>3</td>\n",
       "      <td>6</td>\n",
       "      <td>02:28:58.177</td>\n",
       "      <td>8092e194a750aae539862ed4405f67a6dd5b492e7e57e3...</td>\n",
       "    </tr>\n",
       "    <tr>\n",
       "      <th>3</th>\n",
       "      <td>4</td>\n",
       "      <td>1</td>\n",
       "      <td>09:22:01.936</td>\n",
       "      <td>4</td>\n",
       "      <td>1</td>\n",
       "      <td>09:47:40.192</td>\n",
       "      <td>4ec597c569b92bd0e1bae4e2a06e13b9657fb81795e194...</td>\n",
       "    </tr>\n",
       "    <tr>\n",
       "      <th>4</th>\n",
       "      <td>4</td>\n",
       "      <td>5</td>\n",
       "      <td>06:29:21.182</td>\n",
       "      <td>4</td>\n",
       "      <td>5</td>\n",
       "      <td>06:50:55.004</td>\n",
       "      <td>a4b6aea6cb58e43911e7cb7d6c0497197db7c4ed16e1c9...</td>\n",
       "    </tr>\n",
       "  </tbody>\n",
       "</table>\n",
       "</div>"
      ],
      "text/plain": [
       "   party_start_week  party_start_day party_start_time  party_end_week  \\\n",
       "0                 1                1     09:14:58.558               1   \n",
       "1                 3                3     11:05:05.176               3   \n",
       "2                 3                6     02:18:43.172               3   \n",
       "3                 4                1     09:22:01.936               4   \n",
       "4                 4                5     06:29:21.182               4   \n",
       "\n",
       "   party_end_day party_end_time  \\\n",
       "0              1   09:41:30.200   \n",
       "1              3   13:07:42.515   \n",
       "2              6   02:28:58.177   \n",
       "3              1   09:47:40.192   \n",
       "4              5   06:50:55.004   \n",
       "\n",
       "                                              hashed  \n",
       "0  11fc85879e5ac9d5c83bfba10d73c4c84c154b9f4d9e1d...  \n",
       "1  7176c1516207692857535c30a4650b8e8e586af1fed0fd...  \n",
       "2  8092e194a750aae539862ed4405f67a6dd5b492e7e57e3...  \n",
       "3  4ec597c569b92bd0e1bae4e2a06e13b9657fb81795e194...  \n",
       "4  a4b6aea6cb58e43911e7cb7d6c0497197db7c4ed16e1c9...  "
      ]
     },
     "execution_count": 3,
     "metadata": {},
     "output_type": "execute_result"
    }
   ],
   "source": [
    "data.head()"
   ]
  },
  {
   "cell_type": "code",
   "execution_count": 6,
   "metadata": {},
   "outputs": [
    {
     "data": {
      "text/plain": [
       "6962341"
      ]
     },
     "execution_count": 6,
     "metadata": {},
     "output_type": "execute_result"
    }
   ],
   "source": [
    "len(data)"
   ]
  },
  {
   "cell_type": "code",
   "execution_count": 7,
   "metadata": {},
   "outputs": [],
   "source": [
    "#각주별 데이터만을 뽑는다.\n",
    "party_1wk = data[data.party_start_week == 1]\n",
    "party_2wk = data[data.party_start_week == 2]\n",
    "party_3wk = data[data.party_start_week == 3]\n",
    "party_4wk = data[data.party_start_week == 4]\n",
    "party_5wk = data[data.party_start_week == 5]\n",
    "party_6wk = data[data.party_start_week == 6]\n",
    "party_7wk = data[data.party_start_week == 7]\n",
    "party_8wk = data[data.party_start_week == 8]"
   ]
  },
  {
   "cell_type": "code",
   "execution_count": 9,
   "metadata": {
    "scrolled": true
   },
   "outputs": [
    {
     "data": {
      "text/plain": [
       "518348"
      ]
     },
     "execution_count": 9,
     "metadata": {},
     "output_type": "execute_result"
    },
    {
     "data": {
      "text/plain": [
       "547752"
      ]
     },
     "execution_count": 9,
     "metadata": {},
     "output_type": "execute_result"
    },
    {
     "data": {
      "text/plain": [
       "559468"
      ]
     },
     "execution_count": 9,
     "metadata": {},
     "output_type": "execute_result"
    },
    {
     "data": {
      "text/plain": [
       "620166"
      ]
     },
     "execution_count": 9,
     "metadata": {},
     "output_type": "execute_result"
    },
    {
     "data": {
      "text/plain": [
       "744986"
      ]
     },
     "execution_count": 9,
     "metadata": {},
     "output_type": "execute_result"
    },
    {
     "data": {
      "text/plain": [
       "726162"
      ]
     },
     "execution_count": 9,
     "metadata": {},
     "output_type": "execute_result"
    },
    {
     "data": {
      "text/plain": [
       "1476578"
      ]
     },
     "execution_count": 9,
     "metadata": {},
     "output_type": "execute_result"
    },
    {
     "data": {
      "text/plain": [
       "1768881"
      ]
     },
     "execution_count": 9,
     "metadata": {},
     "output_type": "execute_result"
    }
   ],
   "source": [
    "#주차별 데이터의 길이 확인\n",
    "len(party_1wk)\n",
    "len(party_2wk)\n",
    "len(party_3wk)\n",
    "len(party_4wk)\n",
    "len(party_5wk)\n",
    "len(party_6wk)\n",
    "len(party_7wk)\n",
    "len(party_8wk)"
   ]
  },
  {
   "cell_type": "markdown",
   "metadata": {},
   "source": [
    "### 데이터 저장"
   ]
  },
  {
   "cell_type": "code",
   "execution_count": 10,
   "metadata": {},
   "outputs": [],
   "source": [
    "party_1wk.to_csv(\"train_party_1wk.csv\", index=False)\n",
    "party_2wk.to_csv(\"train_party_2wk.csv\", index=False)\n",
    "party_3wk.to_csv(\"train_party_3wk.csv\", index=False)\n",
    "party_4wk.to_csv(\"train_party_4wk.csv\", index=False)\n",
    "party_5wk.to_csv(\"train_party_5wk.csv\", index=False)\n",
    "party_6wk.to_csv(\"train_party_6wk.csv\", index=False)\n",
    "party_7wk.to_csv(\"train_party_7wk.csv\", index=False)\n",
    "party_8wk.to_csv(\"train_party_8wk.csv\", index=False)"
   ]
  },
  {
   "cell_type": "markdown",
   "metadata": {},
   "source": [
    "## 평가 데이터 추출"
   ]
  },
  {
   "cell_type": "code",
   "execution_count": 14,
   "metadata": {},
   "outputs": [],
   "source": [
    "data = pd.read_csv(\"test_party.csv\")"
   ]
  },
  {
   "cell_type": "code",
   "execution_count": 15,
   "metadata": {},
   "outputs": [],
   "source": [
    "party_1wk = data[data.party_start_week == 1]\n",
    "party_2wk = data[data.party_start_week == 2]\n",
    "party_3wk = data[data.party_start_week == 3]\n",
    "party_4wk = data[data.party_start_week == 4]\n",
    "party_5wk = data[data.party_start_week == 5]\n",
    "party_6wk = data[data.party_start_week == 6]\n",
    "party_7wk = data[data.party_start_week == 7]\n",
    "party_8wk = data[data.party_start_week == 8]"
   ]
  },
  {
   "cell_type": "code",
   "execution_count": 16,
   "metadata": {},
   "outputs": [],
   "source": [
    "party_1wk.to_csv(\"test_party_1wk.csv\", index=False)\n",
    "party_2wk.to_csv(\"test_party_2wk.csv\", index=False)\n",
    "party_3wk.to_csv(\"test_party_3wk.csv\", index=False)\n",
    "party_4wk.to_csv(\"test_party_4wk.csv\", index=False)\n",
    "party_5wk.to_csv(\"test_party_5wk.csv\", index=False)\n",
    "party_6wk.to_csv(\"test_party_6wk.csv\", index=False)\n",
    "party_7wk.to_csv(\"test_party_7wk.csv\", index=False)\n",
    "party_8wk.to_csv(\"test_party_8wk.csv\", index=False)\n"
   ]
  },
  {
   "cell_type": "code",
   "execution_count": null,
   "metadata": {},
   "outputs": [],
   "source": []
  }
 ],
 "metadata": {
  "kernelspec": {
   "display_name": "Python 3",
   "language": "python",
   "name": "python3"
  },
  "language_info": {
   "codemirror_mode": {
    "name": "ipython",
    "version": 3
   },
   "file_extension": ".py",
   "mimetype": "text/x-python",
   "name": "python",
   "nbconvert_exporter": "python",
   "pygments_lexer": "ipython3",
   "version": "3.6.6"
  }
 },
 "nbformat": 4,
 "nbformat_minor": 2
}
