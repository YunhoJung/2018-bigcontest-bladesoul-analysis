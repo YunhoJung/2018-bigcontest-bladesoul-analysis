{
 "cells": [
  {
   "cell_type": "code",
   "execution_count": 2,
   "metadata": {
    "collapsed": true
   },
   "outputs": [],
   "source": [
    "import pandas as pd\n",
    "import os"
   ]
  },
  {
   "cell_type": "code",
   "execution_count": 3,
   "metadata": {},
   "outputs": [],
   "source": [
    "os.chdir(\"../data\")\n",
    "tr_party1=pd.read_csv('party/train_party_1wk.csv')\n",
    "tr_party2=pd.read_csv('party/train_party_2wk.csv')\n",
    "tr_party3=pd.read_csv('party/train_party_3wk.csv')\n",
    "tr_party4=pd.read_csv('party/train_party_4wk.csv')\n",
    "tr_party5=pd.read_csv('party/train_party_5wk.csv')\n",
    "tr_party6=pd.read_csv('party/train_party_6wk.csv')\n",
    "tr_party7=pd.read_csv('party/train_party_7wk.csv')\n",
    "tr_party8=pd.read_csv('party/train_party_8wk.csv')\n",
    "te_party1=pd.read_csv('party/test_party_1wk.csv')\n",
    "te_party2=pd.read_csv('party/test_party_2wk.csv')\n",
    "te_party3=pd.read_csv('party/test_party_3wk.csv')\n",
    "te_party4=pd.read_csv('party/test_party_4wk.csv')\n",
    "te_party5=pd.read_csv('party/test_party_5wk.csv')\n",
    "te_party6=pd.read_csv('party/test_party_6wk.csv')\n",
    "te_party7=pd.read_csv('party/test_party_7wk.csv')\n",
    "te_party8=pd.read_csv('party/test_party_8wk.csv')"
   ]
  },
  {
   "cell_type": "code",
   "execution_count": 5,
   "metadata": {},
   "outputs": [],
   "source": [
    "# activity 데이터와 통합하기 위해 wk 설명변수를 만들어준다.\n",
    "tr_party1['wk']=1\n",
    "tr_party2['wk']=2\n",
    "tr_party3['wk']=3\n",
    "tr_party4['wk']=4\n",
    "tr_party5['wk']=5\n",
    "tr_party6['wk']=6\n",
    "tr_party7['wk']=7\n",
    "tr_party8['wk']=8\n",
    "te_party1['wk']=1\n",
    "te_party2['wk']=2\n",
    "te_party3['wk']=3\n",
    "te_party4['wk']=4\n",
    "te_party5['wk']=5\n",
    "te_party6['wk']=6\n",
    "te_party7['wk']=7\n",
    "te_party8['wk']=8"
   ]
  },
  {
   "cell_type": "code",
   "execution_count": 9,
   "metadata": {},
   "outputs": [],
   "source": [
    "tr_party = pd.concat([tr_party1, tr_party2, tr_party3, tr_party4, tr_party5, tr_party6, tr_party7, tr_party8]).sort_values(by=['acc_id','wk'])\n",
    "te_party = pd.concat([te_party1, te_party2, te_party3, te_party4, te_party5, te_party6, te_party7, te_party8]).sort_values(by=['acc_id','wk'])"
   ]
  },
  {
   "cell_type": "code",
   "execution_count": 10,
   "metadata": {},
   "outputs": [],
   "source": [
    "tr_party.to_csv('train_party_pre.csv', index=False)\n",
    "te_party.to_csv('test_party_pre.csv', index=False)"
   ]
  }
 ],
 "metadata": {
  "kernelspec": {
   "display_name": "Python 2",
   "language": "python",
   "name": "python2"
  },
  "language_info": {
   "codemirror_mode": {
    "name": "ipython",
    "version": 2
   },
   "file_extension": ".py",
   "mimetype": "text/x-python",
   "name": "python",
   "nbconvert_exporter": "python",
   "pygments_lexer": "ipython2",
   "version": "2.7.6"
  }
 },
 "nbformat": 4,
 "nbformat_minor": 0
}