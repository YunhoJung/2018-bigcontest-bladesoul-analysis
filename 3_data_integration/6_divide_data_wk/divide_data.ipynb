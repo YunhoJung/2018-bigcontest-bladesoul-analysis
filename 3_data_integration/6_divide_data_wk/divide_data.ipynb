{
 "cells": [
  {
   "cell_type": "code",
   "execution_count": 2,
   "metadata": {},
   "outputs": [],
   "source": [
    "import pandas as pd\n",
    "from tqdm import trange\n",
    "import os"
   ]
  },
  {
   "cell_type": "code",
   "execution_count": 3,
   "metadata": {},
   "outputs": [],
   "source": [
    "os.chdir(\"../data\")"
   ]
  },
  {
   "cell_type": "code",
   "execution_count": 4,
   "metadata": {},
   "outputs": [],
   "source": [
    "train = pd.read_csv('train_Fin_0911.csv')\n",
    "train_label = pd.read_csv('train/train_label.csv')"
   ]
  },
  {
   "cell_type": "code",
   "execution_count": 5,
   "metadata": {},
   "outputs": [],
   "source": [
    "train = pd.merge(train, train_label,on='acc_id',how='outer').sort_values(by=['acc_id','activated_wk'])\n",
    "test = pd.read_csv('test_Fin_0911.csv')"
   ]
  },
  {
   "cell_type": "code",
   "execution_count": 6,
   "metadata": {},
   "outputs": [
    {
     "name": "stderr",
     "output_type": "stream",
     "text": [
      "\r  0%|          | 0/8 [00:00<?, ?it/s]"
     ]
    },
    {
     "name": "stderr",
     "output_type": "stream",
     "text": [
      "\r 88%|████████▊ | 7/8 [00:00<00:00, 65.02it/s]"
     ]
    },
    {
     "name": "stderr",
     "output_type": "stream",
     "text": [
      "\r100%|██████████| 8/8 [00:00<00:00, 65.30it/s]"
     ]
    },
    {
     "name": "stderr",
     "output_type": "stream",
     "text": [
      "\n"
     ]
    }
   ],
   "source": [
    "# 인던/레이드 입장 횟수와 클리어 횟수를 평균 낸다.\n",
    "for i in trange(1,9):\n",
    "    train['inzone_solo_'+str(i)]=(train['cnt_enter_inzone_solo_'+str(i)]+train['cnt_clear_inzone_solo_'+str(i)])/2\n",
    "    train['inzone_light_'+str(i)]=(train['cnt_enter_inzone_light_'+str(i)]+train['cnt_clear_inzone_light_'+str(i)])/2\n",
    "    train['inzone_skilled_'+str(i)]=(train['cnt_enter_inzone_skilled_'+str(i)]+train['cnt_clear_inzone_skilled_'+str(i)])/2\n",
    "    train['inzone_normal_'+str(i)]=(train['cnt_enter_inzone_normal_'+str(i)]+train['cnt_clear_inzone_normal_'+str(i)])/2\n",
    "    train['raid_'+str(i)]=(train['cnt_enter_raid_'+str(i)]+train['cnt_clear_raid_'+str(i)])/2\n",
    "    train['raid_light_'+str(i)]=(train['cnt_enter_raid_light_'+str(i)]+train['cnt_clear_raid_light_'+str(i)])/2\n",
    "    test['inzone_solo_'+str(i)]=(test['cnt_enter_inzone_solo_'+str(i)]+test['cnt_clear_inzone_solo_'+str(i)])/2\n",
    "    test['inzone_light_'+str(i)]=(test['cnt_enter_inzone_light_'+str(i)]+test['cnt_clear_inzone_light_'+str(i)])/2\n",
    "    test['inzone_skilled_'+str(i)]=(test['cnt_enter_inzone_skilled_'+str(i)]+test['cnt_clear_inzone_skilled_'+str(i)])/2\n",
    "    test['inzone_normal_'+str(i)]=(test['cnt_enter_inzone_normal_'+str(i)]+test['cnt_clear_inzone_normal_'+str(i)])/2\n",
    "    test['raid_'+str(i)]=(test['cnt_enter_raid_'+str(i)]+test['cnt_clear_raid_'+str(i)])/2\n",
    "    test['raid_light_'+str(i)]=(test['cnt_enter_raid_light_'+str(i)]+test['cnt_clear_raid_light_'+str(i)])/2"
   ]
  },
  {
   "cell_type": "code",
   "execution_count": 7,
   "metadata": {},
   "outputs": [
    {
     "name": "stderr",
     "output_type": "stream",
     "text": [
      "\r  0%|          | 0/8 [00:00<?, ?it/s]"
     ]
    },
    {
     "name": "stderr",
     "output_type": "stream",
     "text": [
      "\r 12%|█▎        | 1/8 [00:01<00:08,  1.18s/it]"
     ]
    },
    {
     "name": "stderr",
     "output_type": "stream",
     "text": [
      "\r 25%|██▌       | 2/8 [00:01<00:04,  1.26it/s]"
     ]
    },
    {
     "name": "stderr",
     "output_type": "stream",
     "text": [
      "\r 38%|███▊      | 3/8 [00:02<00:03,  1.44it/s]"
     ]
    },
    {
     "name": "stderr",
     "output_type": "stream",
     "text": [
      "\r 50%|█████     | 4/8 [00:02<00:02,  1.43it/s]"
     ]
    },
    {
     "name": "stderr",
     "output_type": "stream",
     "text": [
      "\r 62%|██████▎   | 5/8 [00:03<00:01,  1.51it/s]"
     ]
    },
    {
     "name": "stderr",
     "output_type": "stream",
     "text": [
      "\r 75%|███████▌  | 6/8 [00:03<00:01,  1.56it/s]"
     ]
    },
    {
     "name": "stderr",
     "output_type": "stream",
     "text": [
      "\r 88%|████████▊ | 7/8 [00:04<00:00,  1.59it/s]"
     ]
    },
    {
     "name": "stderr",
     "output_type": "stream",
     "text": [
      "\r100%|██████████| 8/8 [00:04<00:00,  1.62it/s]"
     ]
    },
    {
     "name": "stderr",
     "output_type": "stream",
     "text": [
      "\n"
     ]
    }
   ],
   "source": [
    "for i in trange(1,9):\n",
    "    train.drop(['cnt_enter_inzone_solo_'+str(i),'cnt_clear_inzone_solo_'+str(i),\n",
    "                'cnt_enter_inzone_light_'+str(i),'cnt_clear_inzone_light_'+str(i),\n",
    "                'cnt_enter_inzone_skilled_'+str(i),'cnt_clear_inzone_skilled_'+str(i),\n",
    "                'cnt_enter_inzone_normal_'+str(i),'cnt_clear_inzone_normal_'+str(i),\n",
    "                'cnt_enter_raid_'+str(i),'cnt_clear_raid_'+str(i),\n",
    "                'cnt_enter_raid_light_'+str(i),'cnt_clear_raid_light_'+str(i)],axis=1,inplace=True)\n",
    "    test.drop(['cnt_enter_inzone_solo_'+str(i),'cnt_clear_inzone_solo_'+str(i),\n",
    "               'cnt_enter_inzone_light_'+str(i),'cnt_clear_inzone_light_'+str(i),\n",
    "               'cnt_enter_inzone_skilled_'+str(i),'cnt_clear_inzone_skilled_'+str(i),\n",
    "                'cnt_enter_inzone_normal_'+str(i),'cnt_clear_inzone_normal_'+str(i),\n",
    "               'cnt_enter_raid_'+str(i),'cnt_clear_raid_'+str(i),\n",
    "               'cnt_enter_raid_light_'+str(i),'cnt_clear_raid_light_'+str(i)],axis=1,inplace=True)"
   ]
  },
  {
   "cell_type": "code",
   "execution_count": 8,
   "metadata": {},
   "outputs": [
    {
     "name": "stderr",
     "output_type": "stream",
     "text": [
      "\r  0%|          | 0/8 [00:00<?, ?it/s]"
     ]
    },
    {
     "name": "stderr",
     "output_type": "stream",
     "text": [
      "\r 12%|█▎        | 1/8 [00:02<00:14,  2.13s/it]"
     ]
    },
    {
     "name": "stderr",
     "output_type": "stream",
     "text": [
      "\r 25%|██▌       | 2/8 [00:04<00:14,  2.40s/it]"
     ]
    },
    {
     "name": "stderr",
     "output_type": "stream",
     "text": [
      "\r 38%|███▊      | 3/8 [00:06<00:10,  2.01s/it]"
     ]
    },
    {
     "name": "stderr",
     "output_type": "stream",
     "text": [
      "\r 50%|█████     | 4/8 [00:07<00:07,  1.79s/it]"
     ]
    },
    {
     "name": "stderr",
     "output_type": "stream",
     "text": [
      "\r 62%|██████▎   | 5/8 [00:09<00:05,  1.88s/it]"
     ]
    },
    {
     "name": "stderr",
     "output_type": "stream",
     "text": [
      "\r 75%|███████▌  | 6/8 [00:11<00:03,  1.93s/it]"
     ]
    },
    {
     "name": "stderr",
     "output_type": "stream",
     "text": [
      "\r 88%|████████▊ | 7/8 [00:14<00:02,  2.08s/it]"
     ]
    },
    {
     "name": "stderr",
     "output_type": "stream",
     "text": [
      "\r100%|██████████| 8/8 [00:24<00:00,  3.08s/it]"
     ]
    },
    {
     "name": "stderr",
     "output_type": "stream",
     "text": [
      "\n"
     ]
    }
   ],
   "source": [
    "# 데이터를 주별로 나눠서 저장한다.\n",
    "for j in trange(1,9):\n",
    "    temp_train=train[train['activated_wk']==j]\n",
    "    temp_train=pd.DataFrame(temp_train,columns=(['acc_id']+['label']+\\\n",
    "                                              ['cnt_dt_'+str(i+1) for i in range(j)]+\\\n",
    "                                              ['play_time_'+str(i+1) for i in range(j)]+\\\n",
    "                                              ['npc_exp_'+str(i+1) for i in range(j)]+\\\n",
    "                                              ['npc_hongmun_'+str(i+1) for i in range(j)]+\\\n",
    "                                              ['quest_exp_'+str(i+1) for i in range(j)]+\\\n",
    "                                              ['quest_hongmun_'+str(i+1) for i in range(j)]+\\\n",
    "                                              ['item_hongmun_'+str(i+1) for i in range(j)]+\\\n",
    "                                              ['game_combat_time_'+str(i+1) for i in range(j)]+\\\n",
    "                                              ['get_money_'+str(i+1) for i in range(j)]+\\\n",
    "                                              ['duel_cnt_'+str(i+1) for i in range(j)]+\\\n",
    "                                              ['duel_win_'+str(i+1) for i in range(j)]+\\\n",
    "                                              ['partybattle_cnt_'+str(i+1) for i in range(j)]+\\\n",
    "                                              ['partybattle_win_'+str(i+1) for i in range(j)]+\\\n",
    "                                              ['inzone_solo_'+str(i+1) for i in range(j)]+\\\n",
    "                                              ['inzone_light_'+str(i+1) for i in range(j)]+\\\n",
    "                                              ['inzone_skilled_'+str(i+1) for i in range(j)]+\\\n",
    "                                              ['inzone_normal_'+str(i+1) for i in range(j)]+\\\n",
    "                                              ['raid_'+str(i+1) for i in range(j)]+\\\n",
    "                                              ['raid_light_'+str(i+1) for i in range(j)]+\\\n",
    "                                              ['party_time_'+str(i+1) for i in range(j)]+\\\n",
    "                                              ['member_count_'+str(i+1) for i in range(j)]+\\\n",
    "                                              ['party_count_'+str(i+1) for i in range(j)]+\\\n",
    "                                              ['mean_mem_'+str(i+1) for i in range(j)]+\\\n",
    "                                              ['give_money_'+str(i+1) for i in range(j)]+\\\n",
    "                                              ['rec_money_'+str(i+1) for i in range(j)]+\\\n",
    "                                              ['give_grocery_'+str(i+1) for i in range(j)]+\\\n",
    "                                              ['rec_grocery_'+str(i+1) for i in range(j)]+\\\n",
    "                                              ['payment_'+str(i+1) for i in range(j)] +\\\n",
    "                                              ['X1_'+str(z+1) for z in range(j)]+\\\n",
    "                                              ['X2_'+str(z+1) for z in range(j)]+\\\n",
    "                                              ['X3_'+str(z+1) for z in range(j)]+\\\n",
    "                                              ['X4_'+str(z+1) for z in range(j)]+\\\n",
    "                                              ['X5_'+str(z+1) for z in range(j)]+\\\n",
    "                                              ['X6_'+str(z+1) for z in range(j)]+\\\n",
    "                                              ['X7_'+str(z+1) for z in range(j)]+\\\n",
    "                                              ['X8_'+str(z+1) for z in range(j)]+\\\n",
    "                                              ['X9_'+str(z+1) for z in range(j)]+\\\n",
    "                                              ['X10_'+str(z+1) for z in range(j)]+\\\n",
    "                                              ['X11_'+str(z+1) for z in range(j)]+\\\n",
    "                                              ['X12_'+str(z+1) for z in range(j)]+\\\n",
    "                                              ['X13_'+str(z+1) for z in range(j)]+\\\n",
    "                                              ['X14_'+str(z+1) for z in range(j)]+\\\n",
    "                                              ['X15_'+str(z+1) for z in range(j)]+\\\n",
    "                                              ['X16_'+str(z+1) for z in range(j)]+\\\n",
    "                                              ['X17_'+str(z+1) for z in range(j)]+\\\n",
    "                                              ['X18_'+str(z+1) for z in range(j)]+\\\n",
    "                                              ['X19_'+str(z+1) for z in range(j)]+\\\n",
    "                                              ['X20_'+str(z+1) for z in range(j)]+\\\n",
    "                                              ['X21_'+str(z+1) for z in range(j)]+\\\n",
    "                                              ['X22_'+str(z+1) for z in range(j)]+\\\n",
    "                                              ['X23_'+str(z+1) for z in range(j)]+\\\n",
    "                                              ['X24_'+str(z+1) for z in range(j)]+\\\n",
    "                                              ['X25_'+str(z+1) for z in range(j)]+\\\n",
    "                                              ['X26_'+str(z+1) for z in range(j)]+\\\n",
    "                                              ['X27_'+str(z+1) for z in range(j)]+\\\n",
    "                                              ['X28_'+str(z+1) for z in range(j)]\n",
    "                                             ))\n",
    "    temp_train.to_csv('train_'+str(j)+'wk.csv',index=False)"
   ]
  },
  {
   "cell_type": "code",
   "execution_count": 9,
   "metadata": {},
   "outputs": [
    {
     "name": "stderr",
     "output_type": "stream",
     "text": [
      "\r  0%|          | 0/8 [00:00<?, ?it/s]"
     ]
    },
    {
     "name": "stderr",
     "output_type": "stream",
     "text": [
      "\r 12%|█▎        | 1/8 [00:00<00:04,  1.49it/s]"
     ]
    },
    {
     "name": "stderr",
     "output_type": "stream",
     "text": [
      "\r 25%|██▌       | 2/8 [00:01<00:04,  1.41it/s]"
     ]
    },
    {
     "name": "stderr",
     "output_type": "stream",
     "text": [
      "\r 38%|███▊      | 3/8 [00:01<00:03,  1.55it/s]"
     ]
    },
    {
     "name": "stderr",
     "output_type": "stream",
     "text": [
      "\r 50%|█████     | 4/8 [00:02<00:02,  1.61it/s]"
     ]
    },
    {
     "name": "stderr",
     "output_type": "stream",
     "text": [
      "\r 62%|██████▎   | 5/8 [00:03<00:02,  1.40it/s]"
     ]
    },
    {
     "name": "stderr",
     "output_type": "stream",
     "text": [
      "\r 75%|███████▌  | 6/8 [00:04<00:01,  1.32it/s]"
     ]
    },
    {
     "name": "stderr",
     "output_type": "stream",
     "text": [
      "\r 88%|████████▊ | 7/8 [00:06<00:00,  1.13it/s]"
     ]
    },
    {
     "name": "stderr",
     "output_type": "stream",
     "text": [
      "\r100%|██████████| 8/8 [00:10<00:00,  1.34s/it]"
     ]
    },
    {
     "name": "stderr",
     "output_type": "stream",
     "text": [
      "\n"
     ]
    }
   ],
   "source": [
    "for j in trange(1,9):\n",
    "    temp_test=test[test['activated_wk']==j]\n",
    "    temp_test=pd.DataFrame(temp_test,columns=(['acc_id']+\\\n",
    "                                              ['cnt_dt_'+str(i+1) for i in range(j)]+\\\n",
    "                                              ['play_time_'+str(i+1) for i in range(j)]+\\\n",
    "                                              ['npc_exp_'+str(i+1) for i in range(j)]+\\\n",
    "                                              ['npc_hongmun_'+str(i+1) for i in range(j)]+\\\n",
    "                                              ['quest_exp_'+str(i+1) for i in range(j)]+\\\n",
    "                                              ['quest_hongmun_'+str(i+1) for i in range(j)]+\\\n",
    "                                              ['item_hongmun_'+str(i+1) for i in range(j)]+\\\n",
    "                                              ['game_combat_time_'+str(i+1) for i in range(j)]+\\\n",
    "                                              ['get_money_'+str(i+1) for i in range(j)]+\\\n",
    "                                              ['duel_cnt_'+str(i+1) for i in range(j)]+\\\n",
    "                                              ['duel_win_'+str(i+1) for i in range(j)]+\\\n",
    "                                              ['partybattle_cnt_'+str(i+1) for i in range(j)]+\\\n",
    "                                              ['partybattle_win_'+str(i+1) for i in range(j)]+\\\n",
    "                                              ['inzone_solo_'+str(i+1) for i in range(j)]+\\\n",
    "                                              ['inzone_light_'+str(i+1) for i in range(j)]+\\\n",
    "                                              ['inzone_skilled_'+str(i+1) for i in range(j)]+\\\n",
    "                                              ['inzone_normal_'+str(i+1) for i in range(j)]+\\\n",
    "                                              ['raid_'+str(i+1) for i in range(j)]+\\\n",
    "                                              ['raid_light_'+str(i+1) for i in range(j)]+\\\n",
    "                                              ['party_time_'+str(i+1) for i in range(j)]+\\\n",
    "                                              ['member_count_'+str(i+1) for i in range(j)]+\\\n",
    "                                              ['party_count_'+str(i+1) for i in range(j)]+\\\n",
    "                                              ['mean_mem_'+str(i+1) for i in range(j)]+\\\n",
    "                                              ['give_money_'+str(i+1) for i in range(j)]+\\\n",
    "                                              ['rec_money_'+str(i+1) for i in range(j)]+\\\n",
    "                                              ['give_grocery_'+str(i+1) for i in range(j)]+\\\n",
    "                                              ['rec_grocery_'+str(i+1) for i in range(j)]+\\\n",
    "                                              ['payment_'+str(i+1) for i in range(j)] +\\\n",
    "                                              ['X1_'+str(z+1) for z in range(j)]+\\\n",
    "                                              ['X2_'+str(z+1) for z in range(j)]+\\\n",
    "                                              ['X3_'+str(z+1) for z in range(j)]+\\\n",
    "                                              ['X4_'+str(z+1) for z in range(j)]+\\\n",
    "                                              ['X5_'+str(z+1) for z in range(j)]+\\\n",
    "                                              ['X6_'+str(z+1) for z in range(j)]+\\\n",
    "                                              ['X7_'+str(z+1) for z in range(j)]+\\\n",
    "                                              ['X8_'+str(z+1) for z in range(j)]+\\\n",
    "                                              ['X9_'+str(z+1) for z in range(j)]+\\\n",
    "                                              ['X10_'+str(z+1) for z in range(j)]+\\\n",
    "                                              ['X11_'+str(z+1) for z in range(j)]+\\\n",
    "                                              ['X12_'+str(z+1) for z in range(j)]+\\\n",
    "                                              ['X13_'+str(z+1) for z in range(j)]+\\\n",
    "                                              ['X14_'+str(z+1) for z in range(j)]+\\\n",
    "                                              ['X15_'+str(z+1) for z in range(j)]+\\\n",
    "                                              ['X16_'+str(z+1) for z in range(j)]+\\\n",
    "                                              ['X17_'+str(z+1) for z in range(j)]+\\\n",
    "                                              ['X18_'+str(z+1) for z in range(j)]+\\\n",
    "                                              ['X19_'+str(z+1) for z in range(j)]+\\\n",
    "                                              ['X20_'+str(z+1) for z in range(j)]+\\\n",
    "                                              ['X21_'+str(z+1) for z in range(j)]+\\\n",
    "                                              ['X22_'+str(z+1) for z in range(j)]+\\\n",
    "                                              ['X23_'+str(z+1) for z in range(j)]+\\\n",
    "                                              ['X24_'+str(z+1) for z in range(j)]+\\\n",
    "                                              ['X25_'+str(z+1) for z in range(j)]+\\\n",
    "                                              ['X26_'+str(z+1) for z in range(j)]+\\\n",
    "                                              ['X27_'+str(z+1) for z in range(j)]+\\\n",
    "                                              ['X28_'+str(z+1) for z in range(j)]\n",
    "                                             ))\n",
    "    temp_test.to_csv('test_'+str(j)+'wk.csv',index=False)"
   ]
  },
  {
   "cell_type": "code",
   "execution_count": null,
   "metadata": {},
   "outputs": [],
   "source": []
  }
 ],
 "metadata": {
  "kernelspec": {
   "display_name": "Python 3",
   "language": "python",
   "name": "python3"
  },
  "language_info": {
   "codemirror_mode": {
    "name": "ipython",
    "version": 3
   },
   "file_extension": ".py",
   "mimetype": "text/x-python",
   "name": "python",
   "nbconvert_exporter": "python",
   "pygments_lexer": "ipython3",
   "version": "3.5.5"
  }
 },
 "nbformat": 4,
 "nbformat_minor": 2
}