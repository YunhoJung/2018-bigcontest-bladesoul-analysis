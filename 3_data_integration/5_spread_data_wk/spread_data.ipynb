{
 "cells": [
  {
   "cell_type": "code",
   "execution_count": 2,
   "metadata": {
    "collapsed": true
   },
   "outputs": [],
   "source": [
    "import pandas as pd\n",
    "import numpy as np\n",
    "from tqdm import tqdm,trange\n",
    "import os\n",
    "os.chdir(\"../data\")"
   ]
  },
  {
   "cell_type": "code",
   "execution_count": 29,
   "metadata": {},
   "outputs": [],
   "source": [
    "# 통합된 데이터를 활동을 시작한 주를 1로 보고 정렬하기 위한 작업.\n",
    "# 시계열 정렬.\n",
    "act = pd.read_csv('test_chad.csv')"
   ]
  },
  {
   "cell_type": "code",
   "execution_count": 30,
   "metadata": {
    "collapsed": false
   },
   "outputs": [
    {
     "name": "stderr",
     "output_type": "stream",
     "text": [
      "\r  0%|          | 0/175631 [00:00<?, ?it/s]"
     ]
    },
    {
     "name": "stderr",
     "output_type": "stream",
     "text": [
      "\r 66%|██████▌   | 116133/175631 [00:00<00:00, 1150575.07it/s]"
     ]
    },
    {
     "name": "stderr",
     "output_type": "stream",
     "text": [
      "\r100%|██████████| 175631/175631 [00:00<00:00, 1220408.92it/s]"
     ]
    },
    {
     "name": "stderr",
     "output_type": "stream",
     "text": [
      "\n"
     ]
    }
   ],
   "source": [
    "# 시작한 주를 순서대로 1번부터 번호를 매긴다.\n",
    "gen_id = (row for row in act['acc_id'])\n",
    "b_id = 0\n",
    "p = 1\n",
    "pt = []\n",
    "for i in trange(len(act)):\n",
    "    n_id = next(gen_id)\n",
    "    if b_id == n_id:\n",
    "        p += 1\n",
    "    else:\n",
    "        p = 1\n",
    "    b_id = n_id\n",
    "    pt.append(p)\n",
    "act['start_wk'] = pt"
   ]
  },
  {
   "cell_type": "code",
   "execution_count": 31,
   "metadata": {},
   "outputs": [],
   "source": [
    "act1 = act[act['start_wk'] == 1]\n",
    "act2 = act[act['start_wk'] == 2]\n",
    "act3 = act[act['start_wk'] == 3]\n",
    "act4 = act[act['start_wk'] == 4]\n",
    "act5 = act[act['start_wk'] == 5]\n",
    "act6 = act[act['start_wk'] == 6]\n",
    "act7 = act[act['start_wk'] == 7]\n",
    "act8 = act[act['start_wk'] == 8]"
   ]
  },
  {
   "cell_type": "code",
   "execution_count": 32,
   "metadata": {},
   "outputs": [
    {
     "data": {
      "text/plain": [
       "Index(['wk', 'acc_id', 'cnt_dt', 'play_time', 'npc_exp', 'npc_hongmun',\n       'quest_exp', 'quest_hongmun', 'item_hongmun', 'game_combat_time',\n       'get_money', 'duel_cnt', 'duel_win', 'partybattle_cnt',\n       'partybattle_win', 'cnt_enter_inzone_solo', 'cnt_enter_inzone_light',\n       'cnt_enter_inzone_skilled', 'cnt_enter_inzone_normal', 'cnt_enter_raid',\n       'cnt_enter_raid_light', 'cnt_enter_bam', 'cnt_clear_inzone_solo',\n       'cnt_clear_inzone_light', 'cnt_clear_inzone_skilled',\n       'cnt_clear_inzone_normal', 'cnt_clear_raid', 'cnt_clear_raid_light',\n       'cnt_clear_bam', 'normal_chat', 'whisper_chat', 'district_chat',\n       'party_chat', 'guild_chat', 'faction_chat', 'cnt_use_buffitem',\n       'gathering_cnt', 'making_cnt', 'party_time', 'member_count',\n       'party_count', 'mean_mem', 'give_money', 'rec_money', 'give_grocery',\n       'rec_grocery', 'payment', 'X1', 'X2', 'X3', 'X4', 'X5', 'X6', 'X7',\n       'X8', 'X9', 'X10', 'X11', 'X12', 'X13', 'X14', 'X15', 'X16', 'X17',\n       'X18', 'X19', 'X20', 'X21', 'X22', 'X23', 'X24', 'X25', 'X26', 'X27',\n       'X28', 'start_wk'],\n      dtype='object')"
      ]
     },
     "execution_count": 32,
     "metadata": {},
     "output_type": "execute_result"
    }
   ],
   "source": [
    "act.columns"
   ]
  },
  {
   "cell_type": "code",
   "execution_count": 33,
   "metadata": {},
   "outputs": [],
   "source": [
    "col_list = ['cnt_dt', 'play_time', 'npc_exp', 'npc_hongmun',\n",
    "       'quest_exp', 'quest_hongmun', 'item_hongmun', 'game_combat_time',\n",
    "       'get_money', 'duel_cnt', 'duel_win', 'partybattle_cnt',\n",
    "       'partybattle_win', 'cnt_enter_inzone_solo', 'cnt_enter_inzone_light',\n",
    "       'cnt_enter_inzone_skilled', 'cnt_enter_inzone_normal', 'cnt_enter_raid',\n",
    "       'cnt_enter_raid_light', 'cnt_enter_bam', 'cnt_clear_inzone_solo',\n",
    "       'cnt_clear_inzone_light', 'cnt_clear_inzone_skilled',\n",
    "       'cnt_clear_inzone_normal', 'cnt_clear_raid', 'cnt_clear_raid_light',\n",
    "       'cnt_clear_bam', 'normal_chat', 'whisper_chat', 'district_chat',\n",
    "       'party_chat', 'guild_chat', 'faction_chat', 'cnt_use_buffitem',\n",
    "       'gathering_cnt', 'making_cnt', 'party_time', 'member_count',\n",
    "       'party_count', 'mean_mem', 'give_money', 'rec_money', 'give_grocery',\n",
    "       'rec_grocery', 'payment', 'X1', 'X2', 'X3', 'X4', 'X5', 'X6', 'X7',\n",
    "       'X8', 'X9', 'X10', 'X11', 'X12', 'X13', 'X14', 'X15', 'X16', 'X17',\n",
    "       'X18', 'X19', 'X20', 'X21', 'X22', 'X23', 'X24', 'X25', 'X26', 'X27',\n",
    "       'X28']"
   ]
  },
  {
   "cell_type": "code",
   "execution_count": 34,
   "metadata": {
    "collapsed": false
   },
   "outputs": [
    {
     "data": {
      "text/plain": [
       "['cnt_dt_1',\n 'play_time_1',\n 'npc_exp_1',\n 'npc_hongmun_1',\n 'quest_exp_1',\n 'quest_hongmun_1',\n 'item_hongmun_1',\n 'game_combat_time_1',\n 'get_money_1',\n 'duel_cnt_1',\n 'duel_win_1',\n 'partybattle_cnt_1',\n 'partybattle_win_1',\n 'cnt_enter_inzone_solo_1',\n 'cnt_enter_inzone_light_1',\n 'cnt_enter_inzone_skilled_1',\n 'cnt_enter_inzone_normal_1',\n 'cnt_enter_raid_1',\n 'cnt_enter_raid_light_1',\n 'cnt_enter_bam_1',\n 'cnt_clear_inzone_solo_1',\n 'cnt_clear_inzone_light_1',\n 'cnt_clear_inzone_skilled_1',\n 'cnt_clear_inzone_normal_1',\n 'cnt_clear_raid_1',\n 'cnt_clear_raid_light_1',\n 'cnt_clear_bam_1',\n 'normal_chat_1',\n 'whisper_chat_1',\n 'district_chat_1',\n 'party_chat_1',\n 'guild_chat_1',\n 'faction_chat_1',\n 'cnt_use_buffitem_1',\n 'gathering_cnt_1',\n 'making_cnt_1',\n 'party_time_1',\n 'member_count_1',\n 'party_count_1',\n 'mean_mem_1',\n 'give_money_1',\n 'rec_money_1',\n 'give_grocery_1',\n 'rec_grocery_1',\n 'payment_1',\n 'X1_1',\n 'X2_1',\n 'X3_1',\n 'X4_1',\n 'X5_1',\n 'X6_1',\n 'X7_1',\n 'X8_1',\n 'X9_1',\n 'X10_1',\n 'X11_1',\n 'X12_1',\n 'X13_1',\n 'X14_1',\n 'X15_1',\n 'X16_1',\n 'X17_1',\n 'X18_1',\n 'X19_1',\n 'X20_1',\n 'X21_1',\n 'X22_1',\n 'X23_1',\n 'X24_1',\n 'X25_1',\n 'X26_1',\n 'X27_1',\n 'X28_1']"
      ]
     },
     "execution_count": 34,
     "metadata": {},
     "output_type": "execute_result"
    }
   ],
   "source": [
    "# 설명변수를 주별로 설정하기 위해 열 이름을 매겨준다.\n",
    "col_list0 = []\n",
    "for i in range(1,9):\n",
    "    cccc = []\n",
    "    for j in range(len(col_list)):\n",
    "        cccc.append(col_list[j] + '_' + str(i))\n",
    "    col_list0.append(cccc)\n",
    "col_list0[0]"
   ]
  },
  {
   "cell_type": "code",
   "execution_count": 35,
   "metadata": {},
   "outputs": [
    {
     "name": "stderr",
     "output_type": "stream",
     "text": [
      "C:\\Program Files (x86)\\Microsoft Visual Studio\\Shared\\Python36_64\\lib\\site-packages\\pandas\\core\\frame.py:3140: SettingWithCopyWarning: \nA value is trying to be set on a copy of a slice from a DataFrame.\nTry using .loc[row_indexer,col_indexer] = value instead\n\nSee the caveats in the documentation: http://pandas.pydata.org/pandas-docs/stable/indexing.html#indexing-view-versus-copy\n  self[k1] = value[k2]\n"
     ]
    },
    {
     "name": "stderr",
     "output_type": "stream",
     "text": [
      "C:\\Program Files (x86)\\Microsoft Visual Studio\\Shared\\Python36_64\\lib\\site-packages\\pandas\\core\\frame.py:3697: SettingWithCopyWarning: \nA value is trying to be set on a copy of a slice from a DataFrame\n\nSee the caveats in the documentation: http://pandas.pydata.org/pandas-docs/stable/indexing.html#indexing-view-versus-copy\n  errors=errors)\n"
     ]
    }
   ],
   "source": [
    "act1[col_list0[0]] = act1[col_list]\n",
    "act1.drop(col_list,axis=1,inplace=True)\n",
    "act2[col_list0[1]] = act2[col_list]\n",
    "act2.drop(col_list,axis=1,inplace=True)\n",
    "act3[col_list0[2]] = act3[col_list]\n",
    "act3.drop(col_list,axis=1,inplace=True)\n",
    "act4[col_list0[3]] = act4[col_list]\n",
    "act4.drop(col_list,axis=1,inplace=True)\n",
    "act5[col_list0[4]] = act5[col_list]\n",
    "act5.drop(col_list,axis=1,inplace=True)\n",
    "act6[col_list0[5]] = act6[col_list]\n",
    "act6.drop(col_list,axis=1,inplace=True)\n",
    "act7[col_list0[6]] = act7[col_list]\n",
    "act7.drop(col_list,axis=1,inplace=True)\n",
    "act8[col_list0[7]] = act8[col_list]\n",
    "act8.drop(col_list,axis=1,inplace=True)"
   ]
  },
  {
   "cell_type": "code",
   "execution_count": 36,
   "metadata": {},
   "outputs": [
    {
     "name": "stderr",
     "output_type": "stream",
     "text": [
      "C:\\Program Files (x86)\\Microsoft Visual Studio\\Shared\\Python36_64\\lib\\site-packages\\pandas\\core\\frame.py:3697: SettingWithCopyWarning: \nA value is trying to be set on a copy of a slice from a DataFrame\n\nSee the caveats in the documentation: http://pandas.pydata.org/pandas-docs/stable/indexing.html#indexing-view-versus-copy\n  errors=errors)\n"
     ]
    }
   ],
   "source": [
    "act1.drop(['wk', 'start_wk'], axis=1, inplace=True)\n",
    "act2.drop(['wk', 'start_wk'], axis=1, inplace=True)\n",
    "act3.drop(['wk', 'start_wk'], axis=1, inplace=True)\n",
    "act4.drop(['wk', 'start_wk'], axis=1, inplace=True)\n",
    "act5.drop(['wk', 'start_wk'], axis=1, inplace=True)\n",
    "act6.drop(['wk', 'start_wk'], axis=1, inplace=True)\n",
    "act7.drop(['wk', 'start_wk'], axis=1, inplace=True)\n",
    "act8.drop(['wk', 'start_wk'], axis=1, inplace=True)"
   ]
  },
  {
   "cell_type": "code",
   "execution_count": 37,
   "metadata": {},
   "outputs": [],
   "source": [
    "total = pd.merge(act1, act2, on='acc_id', how='outer')\n",
    "total = pd.merge(total, act3, on='acc_id', how='outer')\n",
    "total = pd.merge(total, act4, on='acc_id', how='outer')\n",
    "total = pd.merge(total, act5, on='acc_id', how='outer')\n",
    "total = pd.merge(total, act6, on='acc_id', how='outer')\n",
    "total = pd.merge(total, act7, on='acc_id', how='outer')\n",
    "total = pd.merge(total, act8, on='acc_id', how='outer')"
   ]
  },
  {
   "cell_type": "code",
   "execution_count": 38,
   "metadata": {},
   "outputs": [],
   "source": [
    "total = total.fillna(0)"
   ]
  },
  {
   "cell_type": "code",
   "execution_count": 39,
   "metadata": {
    "collapsed": false
   },
   "outputs": [
    {
     "name": "stderr",
     "output_type": "stream",
     "text": [
      "\r  0%|          | 0/175631 [00:00<?, ?it/s]"
     ]
    },
    {
     "name": "stderr",
     "output_type": "stream",
     "text": [
      "\r 69%|██████▉   | 121859/175631 [00:00<00:00, 1207307.64it/s]"
     ]
    },
    {
     "name": "stderr",
     "output_type": "stream",
     "text": [
      "\r100%|██████████| 175631/175631 [00:00<00:00, 1264350.52it/s]"
     ]
    },
    {
     "name": "stderr",
     "output_type": "stream",
     "text": [
      "\n"
     ]
    }
   ],
   "source": [
    "# 누적 몇 주간 활동했는지를 알기 위해 activated_wk 설명변수를 만들어준다.\n",
    "gen_id = (row for row in act['acc_id'])\n",
    "b_id = 0\n",
    "p = 0\n",
    "temp = []\n",
    "for i in trange(len(act)):\n",
    "    n_id = next(gen_id)\n",
    "    if b_id == n_id:\n",
    "        p += 1\n",
    "    else:\n",
    "        if p != 0:\n",
    "            temp.append(p)\n",
    "        p = 1\n",
    "    b_id = n_id\n",
    "temp.append(p)\n",
    "total['activated_wk'] = temp"
   ]
  },
  {
   "cell_type": "code",
   "execution_count": 40,
   "metadata": {},
   "outputs": [
    {
     "data": {
      "text/plain": [
       "Index(['acc_id', 'cnt_dt_1', 'play_time_1', 'npc_exp_1', 'npc_hongmun_1',\n       'quest_exp_1', 'quest_hongmun_1', 'item_hongmun_1',\n       'game_combat_time_1', 'get_money_1',\n       ...\n       'X20_8', 'X21_8', 'X22_8', 'X23_8', 'X24_8', 'X25_8', 'X26_8', 'X27_8',\n       'X28_8', 'activated_wk'],\n      dtype='object', length=586)"
      ]
     },
     "execution_count": 40,
     "metadata": {},
     "output_type": "execute_result"
    }
   ],
   "source": [
    "total.columns"
   ]
  },
  {
   "cell_type": "code",
   "execution_count": 41,
   "metadata": {},
   "outputs": [],
   "source": [
    "total.to_csv('test_Fin_0911.csv', index=False)"
   ]
  }
 ],
 "metadata": {
  "kernelspec": {
   "display_name": "Python 2",
   "language": "python",
   "name": "python2"
  },
  "language_info": {
   "codemirror_mode": {
    "name": "ipython",
    "version": 2
   },
   "file_extension": ".py",
   "mimetype": "text/x-python",
   "name": "python",
   "nbconvert_exporter": "python",
   "pygments_lexer": "ipython2",
   "version": "2.7.6"
  }
 },
 "nbformat": 4,
 "nbformat_minor": 0
}