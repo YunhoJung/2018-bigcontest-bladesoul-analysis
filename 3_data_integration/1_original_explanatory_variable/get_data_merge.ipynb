{
 "cells": [
  {
   "cell_type": "code",
   "execution_count": 2,
   "metadata": {
    "collapsed": true
   },
   "outputs": [],
   "source": [
    "import pandas as pd\n",
    "import os"
   ]
  },
  {
   "cell_type": "code",
   "execution_count": 13,
   "metadata": {},
   "outputs": [],
   "source": [
    "# 전처리를 마친 데이터를 하나로 합친다.\n",
    "os.chdir(\"../data\")\n",
    "tr_act = pd.read_csv('train_activity_pre.csv')\n",
    "te_act = pd.read_csv('test_activity_pre.csv')\n",
    "tr_party = pd.read_csv('train_party_pre.csv')\n",
    "te_party = pd.read_csv('test_party_pre.csv')\n",
    "to_trade = pd.read_csv('total_trade_sum_wk.csv')\n",
    "tr_pay = pd.read_csv('train_payment_merge.csv')\n",
    "te_pay = pd.read_csv('test_payment_merge.csv')"
   ]
  },
  {
   "cell_type": "code",
   "execution_count": 5,
   "metadata": {},
   "outputs": [],
   "source": [
    "tr_party = tr_party.rename(columns={'time':'party_time'})\n",
    "te_party = te_party.rename(columns={'time':'party_time'})"
   ]
  },
  {
   "cell_type": "code",
   "execution_count": 17,
   "metadata": {},
   "outputs": [],
   "source": [
    "tr = pd.merge(tr_act, tr_party, on=['acc_id', 'wk'], how='left')\n",
    "tr = pd.merge(tr, to_trade, on=['acc_id', 'wk'], how='left')\n",
    "tr = pd.merge(tr, tr_pay, on=['acc_id', 'wk'], how='left')\n",
    "te = pd.merge(te_act, te_party, on=['acc_id', 'wk'], how='left')\n",
    "te = pd.merge(te, to_trade, on=['acc_id', 'wk'], how='left')\n",
    "te = pd.merge(te, te_pay, on=['acc_id', 'wk'], how='left')"
   ]
  },
  {
   "cell_type": "code",
   "execution_count": 22,
   "metadata": {},
   "outputs": [],
   "source": [
    "tr = tr.fillna(0).sort_values(by=['acc_id','wk'])\n",
    "te = te.fillna(0).sort_values(by=['acc_id','wk'])\n",
    "tr = tr.rename(columns={'payment_amount':'payment'})\n",
    "te = te.rename(columns={'payment_amount':'payment'})"
   ]
  },
  {
   "cell_type": "code",
   "execution_count": 20,
   "metadata": {},
   "outputs": [
    {
     "data": {
      "text/plain": [
       "Index(['wk', 'acc_id', 'cnt_dt', 'play_time', 'npc_exp', 'npc_hongmun',\n       'quest_exp', 'quest_hongmun', 'item_hongmun', 'game_combat_time',\n       'get_money', 'duel_cnt', 'duel_win', 'partybattle_cnt',\n       'partybattle_win', 'cnt_enter_inzone_solo', 'cnt_enter_inzone_light',\n       'cnt_enter_inzone_skilled', 'cnt_enter_inzone_normal', 'cnt_enter_raid',\n       'cnt_enter_raid_light', 'cnt_enter_bam', 'cnt_clear_inzone_solo',\n       'cnt_clear_inzone_light', 'cnt_clear_inzone_skilled',\n       'cnt_clear_inzone_normal', 'cnt_clear_raid', 'cnt_clear_raid_light',\n       'cnt_clear_bam', 'normal_chat', 'whisper_chat', 'district_chat',\n       'party_chat', 'guild_chat', 'faction_chat', 'cnt_use_buffitem',\n       'gathering_cnt', 'making_cnt', 'party_time', 'member_count',\n       'party_count', 'mean_mem', 'give_money', 'rec_money', 'give_grocery',\n       'rec_grocery', 'payment'],\n      dtype='object')"
      ]
     },
     "execution_count": 20,
     "metadata": {},
     "output_type": "execute_result"
    }
   ],
   "source": [
    "tr.columns"
   ]
  },
  {
   "cell_type": "code",
   "execution_count": 23,
   "metadata": {},
   "outputs": [],
   "source": [
    "tr.to_csv('train_merge_0911.csv', index=False)\n",
    "te.to_csv('test_merge_0911.csv', index=False)"
   ]
  }
 ],
 "metadata": {
  "kernelspec": {
   "display_name": "Python 2",
   "language": "python",
   "name": "python2"
  },
  "language_info": {
   "codemirror_mode": {
    "name": "ipython",
    "version": 2
   },
   "file_extension": ".py",
   "mimetype": "text/x-python",
   "name": "python",
   "nbconvert_exporter": "python",
   "pygments_lexer": "ipython2",
   "version": "2.7.6"
  }
 },
 "nbformat": 4,
 "nbformat_minor": 0
}